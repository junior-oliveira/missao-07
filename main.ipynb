{
 "cells": [
  {
   "cell_type": "markdown",
   "source": [
    "Gráficos de frequências de valores ausentes"
   ],
   "metadata": {}
  },
  {
   "cell_type": "code",
   "execution_count": 14,
   "source": [
    "from utils import graficos\n",
    "graficos.grafico_missing_values()"
   ],
   "outputs": [
    {
     "output_type": "stream",
     "name": "stdout",
     "text": [
      "<class 'pandas.core.series.Series'>\n"
     ]
    },
    {
     "output_type": "display_data",
     "data": {
      "text/plain": [
       "<Figure size 720x576 with 1 Axes>"
      ],
      "image/svg+xml": "<?xml version=\"1.0\" encoding=\"utf-8\" standalone=\"no\"?>\n<!DOCTYPE svg PUBLIC \"-//W3C//DTD SVG 1.1//EN\"\n  \"http://www.w3.org/Graphics/SVG/1.1/DTD/svg11.dtd\">\n<!-- Created with matplotlib (https://matplotlib.org/) -->\n<svg height=\"568.8pt\" version=\"1.1\" viewBox=\"0 0 712.8 568.8\" width=\"712.8pt\" xmlns=\"http://www.w3.org/2000/svg\" xmlns:xlink=\"http://www.w3.org/1999/xlink\">\n <metadata>\n  <rdf:RDF xmlns:cc=\"http://creativecommons.org/ns#\" xmlns:dc=\"http://purl.org/dc/elements/1.1/\" xmlns:rdf=\"http://www.w3.org/1999/02/22-rdf-syntax-ns#\">\n   <cc:Work>\n    <dc:type rdf:resource=\"http://purl.org/dc/dcmitype/StillImage\"/>\n    <dc:date>2021-08-09T14:04:56.391650</dc:date>\n    <dc:format>image/svg+xml</dc:format>\n    <dc:creator>\n     <cc:Agent>\n      <dc:title>Matplotlib v3.3.4, https://matplotlib.org/</dc:title>\n     </cc:Agent>\n    </dc:creator>\n   </cc:Work>\n  </rdf:RDF>\n </metadata>\n <defs>\n  <style type=\"text/css\">*{stroke-linecap:butt;stroke-linejoin:round;}</style>\n </defs>\n <g id=\"figure_1\">\n  <g id=\"patch_1\">\n   <path d=\"M 0 568.8 \nL 712.8 568.8 \nL 712.8 0 \nL 0 0 \nz\n\" style=\"fill:none;\"/>\n  </g>\n  <g id=\"axes_1\">\n   <g id=\"patch_2\">\n    <path d=\"M 46.0125 497.78618 \nL 705.6 497.78618 \nL 705.6 7.2 \nL 46.0125 7.2 \nz\n\" style=\"fill:#ffffff;\"/>\n   </g>\n   <g id=\"patch_3\">\n    <path clip-path=\"url(#pf3ea35aebb)\" d=\"M 59.753906 497.78618 \nL 87.236719 497.78618 \nL 87.236719 497.514551 \nL 59.753906 497.514551 \nz\n\" style=\"fill:#1f77b4;\"/>\n   </g>\n   <g id=\"patch_4\">\n    <path clip-path=\"url(#pf3ea35aebb)\" d=\"M 114.719531 497.78618 \nL 142.202344 497.78618 \nL 142.202344 497.706955 \nL 114.719531 497.706955 \nz\n\" style=\"fill:#1f77b4;\"/>\n   </g>\n   <g id=\"patch_5\">\n    <path clip-path=\"url(#pf3ea35aebb)\" d=\"M 169.685156 497.78618 \nL 197.167969 497.78618 \nL 197.167969 491.391575 \nL 169.685156 491.391575 \nz\n\" style=\"fill:#1f77b4;\"/>\n   </g>\n   <g id=\"patch_6\">\n    <path clip-path=\"url(#pf3ea35aebb)\" d=\"M 224.650781 497.78618 \nL 252.133594 497.78618 \nL 252.133594 375.122941 \nL 224.650781 375.122941 \nz\n\" style=\"fill:#1f77b4;\"/>\n   </g>\n   <g id=\"patch_7\">\n    <path clip-path=\"url(#pf3ea35aebb)\" d=\"M 279.616406 497.78618 \nL 307.099219 497.78618 \nL 307.099219 497.684319 \nL 279.616406 497.684319 \nz\n\" style=\"fill:#1f77b4;\"/>\n   </g>\n   <g id=\"patch_8\">\n    <path clip-path=\"url(#pf3ea35aebb)\" d=\"M 334.582031 497.78618 \nL 362.064844 497.78618 \nL 362.064844 497.774862 \nL 334.582031 497.774862 \nz\n\" style=\"fill:#1f77b4;\"/>\n   </g>\n   <g id=\"patch_9\">\n    <path clip-path=\"url(#pf3ea35aebb)\" d=\"M 389.547656 497.78618 \nL 417.030469 497.78618 \nL 417.030469 30.561247 \nL 389.547656 30.561247 \nz\n\" style=\"fill:#1f77b4;\"/>\n   </g>\n   <g id=\"patch_10\">\n    <path clip-path=\"url(#pf3ea35aebb)\" d=\"M 444.513281 497.78618 \nL 471.996094 497.78618 \nL 471.996094 193.074759 \nL 444.513281 193.074759 \nz\n\" style=\"fill:#1f77b4;\"/>\n   </g>\n   <g id=\"patch_11\">\n    <path clip-path=\"url(#pf3ea35aebb)\" d=\"M 499.478906 497.78618 \nL 526.961719 497.78618 \nL 526.961719 485.268599 \nL 499.478906 485.268599 \nz\n\" style=\"fill:#1f77b4;\"/>\n   </g>\n   <g id=\"patch_12\">\n    <path clip-path=\"url(#pf3ea35aebb)\" d=\"M 554.444531 497.78618 \nL 581.927344 497.78618 \nL 581.927344 497.175014 \nL 554.444531 497.175014 \nz\n\" style=\"fill:#1f77b4;\"/>\n   </g>\n   <g id=\"patch_13\">\n    <path clip-path=\"url(#pf3ea35aebb)\" d=\"M 609.410156 497.78618 \nL 636.892969 497.78618 \nL 636.892969 497.774862 \nL 609.410156 497.774862 \nz\n\" style=\"fill:#1f77b4;\"/>\n   </g>\n   <g id=\"patch_14\">\n    <path clip-path=\"url(#pf3ea35aebb)\" d=\"M 664.375781 497.78618 \nL 691.858594 497.78618 \nL 691.858594 449.945479 \nL 664.375781 449.945479 \nz\n\" style=\"fill:#1f77b4;\"/>\n   </g>\n   <g id=\"matplotlib.axis_1\">\n    <g id=\"xtick_1\">\n     <g id=\"line2d_1\">\n      <defs>\n       <path d=\"M 0 0 \nL 0 3.5 \n\" id=\"mf8bcd4466c\" style=\"stroke:#000000;stroke-width:0.8;\"/>\n      </defs>\n      <g>\n       <use style=\"stroke:#000000;stroke-width:0.8;\" x=\"73.495312\" xlink:href=\"#mf8bcd4466c\" y=\"497.78618\"/>\n      </g>\n     </g>\n     <g id=\"text_1\">\n      <!-- ps_ind_02_cat -->\n      <g transform=\"translate(50.49556 559.864274)rotate(-45)scale(0.1 -0.1)\">\n       <defs>\n        <path d=\"M 18.109375 8.203125 \nL 18.109375 -20.796875 \nL 9.078125 -20.796875 \nL 9.078125 54.6875 \nL 18.109375 54.6875 \nL 18.109375 46.390625 \nQ 20.953125 51.265625 25.265625 53.625 \nQ 29.59375 56 35.59375 56 \nQ 45.5625 56 51.78125 48.09375 \nQ 58.015625 40.1875 58.015625 27.296875 \nQ 58.015625 14.40625 51.78125 6.484375 \nQ 45.5625 -1.421875 35.59375 -1.421875 \nQ 29.59375 -1.421875 25.265625 0.953125 \nQ 20.953125 3.328125 18.109375 8.203125 \nz\nM 48.6875 27.296875 \nQ 48.6875 37.203125 44.609375 42.84375 \nQ 40.53125 48.484375 33.40625 48.484375 \nQ 26.265625 48.484375 22.1875 42.84375 \nQ 18.109375 37.203125 18.109375 27.296875 \nQ 18.109375 17.390625 22.1875 11.75 \nQ 26.265625 6.109375 33.40625 6.109375 \nQ 40.53125 6.109375 44.609375 11.75 \nQ 48.6875 17.390625 48.6875 27.296875 \nz\n\" id=\"DejaVuSans-112\"/>\n        <path d=\"M 44.28125 53.078125 \nL 44.28125 44.578125 \nQ 40.484375 46.53125 36.375 47.5 \nQ 32.28125 48.484375 27.875 48.484375 \nQ 21.1875 48.484375 17.84375 46.4375 \nQ 14.5 44.390625 14.5 40.28125 \nQ 14.5 37.15625 16.890625 35.375 \nQ 19.28125 33.59375 26.515625 31.984375 \nL 29.59375 31.296875 \nQ 39.15625 29.25 43.1875 25.515625 \nQ 47.21875 21.78125 47.21875 15.09375 \nQ 47.21875 7.46875 41.1875 3.015625 \nQ 35.15625 -1.421875 24.609375 -1.421875 \nQ 20.21875 -1.421875 15.453125 -0.5625 \nQ 10.6875 0.296875 5.421875 2 \nL 5.421875 11.28125 \nQ 10.40625 8.6875 15.234375 7.390625 \nQ 20.0625 6.109375 24.8125 6.109375 \nQ 31.15625 6.109375 34.5625 8.28125 \nQ 37.984375 10.453125 37.984375 14.40625 \nQ 37.984375 18.0625 35.515625 20.015625 \nQ 33.0625 21.96875 24.703125 23.78125 \nL 21.578125 24.515625 \nQ 13.234375 26.265625 9.515625 29.90625 \nQ 5.8125 33.546875 5.8125 39.890625 \nQ 5.8125 47.609375 11.28125 51.796875 \nQ 16.75 56 26.8125 56 \nQ 31.78125 56 36.171875 55.265625 \nQ 40.578125 54.546875 44.28125 53.078125 \nz\n\" id=\"DejaVuSans-115\"/>\n        <path d=\"M 50.984375 -16.609375 \nL 50.984375 -23.578125 \nL -0.984375 -23.578125 \nL -0.984375 -16.609375 \nz\n\" id=\"DejaVuSans-95\"/>\n        <path d=\"M 9.421875 54.6875 \nL 18.40625 54.6875 \nL 18.40625 0 \nL 9.421875 0 \nz\nM 9.421875 75.984375 \nL 18.40625 75.984375 \nL 18.40625 64.59375 \nL 9.421875 64.59375 \nz\n\" id=\"DejaVuSans-105\"/>\n        <path d=\"M 54.890625 33.015625 \nL 54.890625 0 \nL 45.90625 0 \nL 45.90625 32.71875 \nQ 45.90625 40.484375 42.875 44.328125 \nQ 39.84375 48.1875 33.796875 48.1875 \nQ 26.515625 48.1875 22.3125 43.546875 \nQ 18.109375 38.921875 18.109375 30.90625 \nL 18.109375 0 \nL 9.078125 0 \nL 9.078125 54.6875 \nL 18.109375 54.6875 \nL 18.109375 46.1875 \nQ 21.34375 51.125 25.703125 53.5625 \nQ 30.078125 56 35.796875 56 \nQ 45.21875 56 50.046875 50.171875 \nQ 54.890625 44.34375 54.890625 33.015625 \nz\n\" id=\"DejaVuSans-110\"/>\n        <path d=\"M 45.40625 46.390625 \nL 45.40625 75.984375 \nL 54.390625 75.984375 \nL 54.390625 0 \nL 45.40625 0 \nL 45.40625 8.203125 \nQ 42.578125 3.328125 38.25 0.953125 \nQ 33.9375 -1.421875 27.875 -1.421875 \nQ 17.96875 -1.421875 11.734375 6.484375 \nQ 5.515625 14.40625 5.515625 27.296875 \nQ 5.515625 40.1875 11.734375 48.09375 \nQ 17.96875 56 27.875 56 \nQ 33.9375 56 38.25 53.625 \nQ 42.578125 51.265625 45.40625 46.390625 \nz\nM 14.796875 27.296875 \nQ 14.796875 17.390625 18.875 11.75 \nQ 22.953125 6.109375 30.078125 6.109375 \nQ 37.203125 6.109375 41.296875 11.75 \nQ 45.40625 17.390625 45.40625 27.296875 \nQ 45.40625 37.203125 41.296875 42.84375 \nQ 37.203125 48.484375 30.078125 48.484375 \nQ 22.953125 48.484375 18.875 42.84375 \nQ 14.796875 37.203125 14.796875 27.296875 \nz\n\" id=\"DejaVuSans-100\"/>\n        <path d=\"M 31.78125 66.40625 \nQ 24.171875 66.40625 20.328125 58.90625 \nQ 16.5 51.421875 16.5 36.375 \nQ 16.5 21.390625 20.328125 13.890625 \nQ 24.171875 6.390625 31.78125 6.390625 \nQ 39.453125 6.390625 43.28125 13.890625 \nQ 47.125 21.390625 47.125 36.375 \nQ 47.125 51.421875 43.28125 58.90625 \nQ 39.453125 66.40625 31.78125 66.40625 \nz\nM 31.78125 74.21875 \nQ 44.046875 74.21875 50.515625 64.515625 \nQ 56.984375 54.828125 56.984375 36.375 \nQ 56.984375 17.96875 50.515625 8.265625 \nQ 44.046875 -1.421875 31.78125 -1.421875 \nQ 19.53125 -1.421875 13.0625 8.265625 \nQ 6.59375 17.96875 6.59375 36.375 \nQ 6.59375 54.828125 13.0625 64.515625 \nQ 19.53125 74.21875 31.78125 74.21875 \nz\n\" id=\"DejaVuSans-48\"/>\n        <path d=\"M 19.1875 8.296875 \nL 53.609375 8.296875 \nL 53.609375 0 \nL 7.328125 0 \nL 7.328125 8.296875 \nQ 12.9375 14.109375 22.625 23.890625 \nQ 32.328125 33.6875 34.8125 36.53125 \nQ 39.546875 41.84375 41.421875 45.53125 \nQ 43.3125 49.21875 43.3125 52.78125 \nQ 43.3125 58.59375 39.234375 62.25 \nQ 35.15625 65.921875 28.609375 65.921875 \nQ 23.96875 65.921875 18.8125 64.3125 \nQ 13.671875 62.703125 7.8125 59.421875 \nL 7.8125 69.390625 \nQ 13.765625 71.78125 18.9375 73 \nQ 24.125 74.21875 28.421875 74.21875 \nQ 39.75 74.21875 46.484375 68.546875 \nQ 53.21875 62.890625 53.21875 53.421875 \nQ 53.21875 48.921875 51.53125 44.890625 \nQ 49.859375 40.875 45.40625 35.40625 \nQ 44.1875 33.984375 37.640625 27.21875 \nQ 31.109375 20.453125 19.1875 8.296875 \nz\n\" id=\"DejaVuSans-50\"/>\n        <path d=\"M 48.78125 52.59375 \nL 48.78125 44.1875 \nQ 44.96875 46.296875 41.140625 47.34375 \nQ 37.3125 48.390625 33.40625 48.390625 \nQ 24.65625 48.390625 19.8125 42.84375 \nQ 14.984375 37.3125 14.984375 27.296875 \nQ 14.984375 17.28125 19.8125 11.734375 \nQ 24.65625 6.203125 33.40625 6.203125 \nQ 37.3125 6.203125 41.140625 7.25 \nQ 44.96875 8.296875 48.78125 10.40625 \nL 48.78125 2.09375 \nQ 45.015625 0.34375 40.984375 -0.53125 \nQ 36.96875 -1.421875 32.421875 -1.421875 \nQ 20.0625 -1.421875 12.78125 6.34375 \nQ 5.515625 14.109375 5.515625 27.296875 \nQ 5.515625 40.671875 12.859375 48.328125 \nQ 20.21875 56 33.015625 56 \nQ 37.15625 56 41.109375 55.140625 \nQ 45.0625 54.296875 48.78125 52.59375 \nz\n\" id=\"DejaVuSans-99\"/>\n        <path d=\"M 34.28125 27.484375 \nQ 23.390625 27.484375 19.1875 25 \nQ 14.984375 22.515625 14.984375 16.5 \nQ 14.984375 11.71875 18.140625 8.90625 \nQ 21.296875 6.109375 26.703125 6.109375 \nQ 34.1875 6.109375 38.703125 11.40625 \nQ 43.21875 16.703125 43.21875 25.484375 \nL 43.21875 27.484375 \nz\nM 52.203125 31.203125 \nL 52.203125 0 \nL 43.21875 0 \nL 43.21875 8.296875 \nQ 40.140625 3.328125 35.546875 0.953125 \nQ 30.953125 -1.421875 24.3125 -1.421875 \nQ 15.921875 -1.421875 10.953125 3.296875 \nQ 6 8.015625 6 15.921875 \nQ 6 25.140625 12.171875 29.828125 \nQ 18.359375 34.515625 30.609375 34.515625 \nL 43.21875 34.515625 \nL 43.21875 35.40625 \nQ 43.21875 41.609375 39.140625 45 \nQ 35.0625 48.390625 27.6875 48.390625 \nQ 23 48.390625 18.546875 47.265625 \nQ 14.109375 46.140625 10.015625 43.890625 \nL 10.015625 52.203125 \nQ 14.9375 54.109375 19.578125 55.046875 \nQ 24.21875 56 28.609375 56 \nQ 40.484375 56 46.34375 49.84375 \nQ 52.203125 43.703125 52.203125 31.203125 \nz\n\" id=\"DejaVuSans-97\"/>\n        <path d=\"M 18.3125 70.21875 \nL 18.3125 54.6875 \nL 36.8125 54.6875 \nL 36.8125 47.703125 \nL 18.3125 47.703125 \nL 18.3125 18.015625 \nQ 18.3125 11.328125 20.140625 9.421875 \nQ 21.96875 7.515625 27.59375 7.515625 \nL 36.8125 7.515625 \nL 36.8125 0 \nL 27.59375 0 \nQ 17.1875 0 13.234375 3.875 \nQ 9.28125 7.765625 9.28125 18.015625 \nL 9.28125 47.703125 \nL 2.6875 47.703125 \nL 2.6875 54.6875 \nL 9.28125 54.6875 \nL 9.28125 70.21875 \nz\n\" id=\"DejaVuSans-116\"/>\n       </defs>\n       <use xlink:href=\"#DejaVuSans-112\"/>\n       <use x=\"63.476562\" xlink:href=\"#DejaVuSans-115\"/>\n       <use x=\"115.576172\" xlink:href=\"#DejaVuSans-95\"/>\n       <use x=\"165.576172\" xlink:href=\"#DejaVuSans-105\"/>\n       <use x=\"193.359375\" xlink:href=\"#DejaVuSans-110\"/>\n       <use x=\"256.738281\" xlink:href=\"#DejaVuSans-100\"/>\n       <use x=\"320.214844\" xlink:href=\"#DejaVuSans-95\"/>\n       <use x=\"370.214844\" xlink:href=\"#DejaVuSans-48\"/>\n       <use x=\"433.837891\" xlink:href=\"#DejaVuSans-50\"/>\n       <use x=\"497.460938\" xlink:href=\"#DejaVuSans-95\"/>\n       <use x=\"547.460938\" xlink:href=\"#DejaVuSans-99\"/>\n       <use x=\"602.441406\" xlink:href=\"#DejaVuSans-97\"/>\n       <use x=\"663.720703\" xlink:href=\"#DejaVuSans-116\"/>\n      </g>\n     </g>\n    </g>\n    <g id=\"xtick_2\">\n     <g id=\"line2d_2\">\n      <g>\n       <use style=\"stroke:#000000;stroke-width:0.8;\" x=\"128.460938\" xlink:href=\"#mf8bcd4466c\" y=\"497.78618\"/>\n      </g>\n     </g>\n     <g id=\"text_2\">\n      <!-- ps_ind_04_cat -->\n      <g transform=\"translate(105.461185 559.864274)rotate(-45)scale(0.1 -0.1)\">\n       <defs>\n        <path d=\"M 37.796875 64.3125 \nL 12.890625 25.390625 \nL 37.796875 25.390625 \nz\nM 35.203125 72.90625 \nL 47.609375 72.90625 \nL 47.609375 25.390625 \nL 58.015625 25.390625 \nL 58.015625 17.1875 \nL 47.609375 17.1875 \nL 47.609375 0 \nL 37.796875 0 \nL 37.796875 17.1875 \nL 4.890625 17.1875 \nL 4.890625 26.703125 \nz\n\" id=\"DejaVuSans-52\"/>\n       </defs>\n       <use xlink:href=\"#DejaVuSans-112\"/>\n       <use x=\"63.476562\" xlink:href=\"#DejaVuSans-115\"/>\n       <use x=\"115.576172\" xlink:href=\"#DejaVuSans-95\"/>\n       <use x=\"165.576172\" xlink:href=\"#DejaVuSans-105\"/>\n       <use x=\"193.359375\" xlink:href=\"#DejaVuSans-110\"/>\n       <use x=\"256.738281\" xlink:href=\"#DejaVuSans-100\"/>\n       <use x=\"320.214844\" xlink:href=\"#DejaVuSans-95\"/>\n       <use x=\"370.214844\" xlink:href=\"#DejaVuSans-48\"/>\n       <use x=\"433.837891\" xlink:href=\"#DejaVuSans-52\"/>\n       <use x=\"497.460938\" xlink:href=\"#DejaVuSans-95\"/>\n       <use x=\"547.460938\" xlink:href=\"#DejaVuSans-99\"/>\n       <use x=\"602.441406\" xlink:href=\"#DejaVuSans-97\"/>\n       <use x=\"663.720703\" xlink:href=\"#DejaVuSans-116\"/>\n      </g>\n     </g>\n    </g>\n    <g id=\"xtick_3\">\n     <g id=\"line2d_3\">\n      <g>\n       <use style=\"stroke:#000000;stroke-width:0.8;\" x=\"183.426562\" xlink:href=\"#mf8bcd4466c\" y=\"497.78618\"/>\n      </g>\n     </g>\n     <g id=\"text_3\">\n      <!-- ps_ind_05_cat -->\n      <g transform=\"translate(160.42681 559.864274)rotate(-45)scale(0.1 -0.1)\">\n       <defs>\n        <path d=\"M 10.796875 72.90625 \nL 49.515625 72.90625 \nL 49.515625 64.59375 \nL 19.828125 64.59375 \nL 19.828125 46.734375 \nQ 21.96875 47.46875 24.109375 47.828125 \nQ 26.265625 48.1875 28.421875 48.1875 \nQ 40.625 48.1875 47.75 41.5 \nQ 54.890625 34.8125 54.890625 23.390625 \nQ 54.890625 11.625 47.5625 5.09375 \nQ 40.234375 -1.421875 26.90625 -1.421875 \nQ 22.3125 -1.421875 17.546875 -0.640625 \nQ 12.796875 0.140625 7.71875 1.703125 \nL 7.71875 11.625 \nQ 12.109375 9.234375 16.796875 8.0625 \nQ 21.484375 6.890625 26.703125 6.890625 \nQ 35.15625 6.890625 40.078125 11.328125 \nQ 45.015625 15.765625 45.015625 23.390625 \nQ 45.015625 31 40.078125 35.4375 \nQ 35.15625 39.890625 26.703125 39.890625 \nQ 22.75 39.890625 18.8125 39.015625 \nQ 14.890625 38.140625 10.796875 36.28125 \nz\n\" id=\"DejaVuSans-53\"/>\n       </defs>\n       <use xlink:href=\"#DejaVuSans-112\"/>\n       <use x=\"63.476562\" xlink:href=\"#DejaVuSans-115\"/>\n       <use x=\"115.576172\" xlink:href=\"#DejaVuSans-95\"/>\n       <use x=\"165.576172\" xlink:href=\"#DejaVuSans-105\"/>\n       <use x=\"193.359375\" xlink:href=\"#DejaVuSans-110\"/>\n       <use x=\"256.738281\" xlink:href=\"#DejaVuSans-100\"/>\n       <use x=\"320.214844\" xlink:href=\"#DejaVuSans-95\"/>\n       <use x=\"370.214844\" xlink:href=\"#DejaVuSans-48\"/>\n       <use x=\"433.837891\" xlink:href=\"#DejaVuSans-53\"/>\n       <use x=\"497.460938\" xlink:href=\"#DejaVuSans-95\"/>\n       <use x=\"547.460938\" xlink:href=\"#DejaVuSans-99\"/>\n       <use x=\"602.441406\" xlink:href=\"#DejaVuSans-97\"/>\n       <use x=\"663.720703\" xlink:href=\"#DejaVuSans-116\"/>\n      </g>\n     </g>\n    </g>\n    <g id=\"xtick_4\">\n     <g id=\"line2d_4\">\n      <g>\n       <use style=\"stroke:#000000;stroke-width:0.8;\" x=\"238.392187\" xlink:href=\"#mf8bcd4466c\" y=\"497.78618\"/>\n      </g>\n     </g>\n     <g id=\"text_4\">\n      <!-- ps_reg_03 -->\n      <g transform=\"translate(222.267943 545.86356)rotate(-45)scale(0.1 -0.1)\">\n       <defs>\n        <path d=\"M 41.109375 46.296875 \nQ 39.59375 47.171875 37.8125 47.578125 \nQ 36.03125 48 33.890625 48 \nQ 26.265625 48 22.1875 43.046875 \nQ 18.109375 38.09375 18.109375 28.8125 \nL 18.109375 0 \nL 9.078125 0 \nL 9.078125 54.6875 \nL 18.109375 54.6875 \nL 18.109375 46.1875 \nQ 20.953125 51.171875 25.484375 53.578125 \nQ 30.03125 56 36.53125 56 \nQ 37.453125 56 38.578125 55.875 \nQ 39.703125 55.765625 41.0625 55.515625 \nz\n\" id=\"DejaVuSans-114\"/>\n        <path d=\"M 56.203125 29.59375 \nL 56.203125 25.203125 \nL 14.890625 25.203125 \nQ 15.484375 15.921875 20.484375 11.0625 \nQ 25.484375 6.203125 34.421875 6.203125 \nQ 39.59375 6.203125 44.453125 7.46875 \nQ 49.3125 8.734375 54.109375 11.28125 \nL 54.109375 2.78125 \nQ 49.265625 0.734375 44.1875 -0.34375 \nQ 39.109375 -1.421875 33.890625 -1.421875 \nQ 20.796875 -1.421875 13.15625 6.1875 \nQ 5.515625 13.8125 5.515625 26.8125 \nQ 5.515625 40.234375 12.765625 48.109375 \nQ 20.015625 56 32.328125 56 \nQ 43.359375 56 49.78125 48.890625 \nQ 56.203125 41.796875 56.203125 29.59375 \nz\nM 47.21875 32.234375 \nQ 47.125 39.59375 43.09375 43.984375 \nQ 39.0625 48.390625 32.421875 48.390625 \nQ 24.90625 48.390625 20.390625 44.140625 \nQ 15.875 39.890625 15.1875 32.171875 \nz\n\" id=\"DejaVuSans-101\"/>\n        <path d=\"M 45.40625 27.984375 \nQ 45.40625 37.75 41.375 43.109375 \nQ 37.359375 48.484375 30.078125 48.484375 \nQ 22.859375 48.484375 18.828125 43.109375 \nQ 14.796875 37.75 14.796875 27.984375 \nQ 14.796875 18.265625 18.828125 12.890625 \nQ 22.859375 7.515625 30.078125 7.515625 \nQ 37.359375 7.515625 41.375 12.890625 \nQ 45.40625 18.265625 45.40625 27.984375 \nz\nM 54.390625 6.78125 \nQ 54.390625 -7.171875 48.1875 -13.984375 \nQ 42 -20.796875 29.203125 -20.796875 \nQ 24.46875 -20.796875 20.265625 -20.09375 \nQ 16.0625 -19.390625 12.109375 -17.921875 \nL 12.109375 -9.1875 \nQ 16.0625 -11.328125 19.921875 -12.34375 \nQ 23.78125 -13.375 27.78125 -13.375 \nQ 36.625 -13.375 41.015625 -8.765625 \nQ 45.40625 -4.15625 45.40625 5.171875 \nL 45.40625 9.625 \nQ 42.625 4.78125 38.28125 2.390625 \nQ 33.9375 0 27.875 0 \nQ 17.828125 0 11.671875 7.65625 \nQ 5.515625 15.328125 5.515625 27.984375 \nQ 5.515625 40.671875 11.671875 48.328125 \nQ 17.828125 56 27.875 56 \nQ 33.9375 56 38.28125 53.609375 \nQ 42.625 51.21875 45.40625 46.390625 \nL 45.40625 54.6875 \nL 54.390625 54.6875 \nz\n\" id=\"DejaVuSans-103\"/>\n        <path d=\"M 40.578125 39.3125 \nQ 47.65625 37.796875 51.625 33 \nQ 55.609375 28.21875 55.609375 21.1875 \nQ 55.609375 10.40625 48.1875 4.484375 \nQ 40.765625 -1.421875 27.09375 -1.421875 \nQ 22.515625 -1.421875 17.65625 -0.515625 \nQ 12.796875 0.390625 7.625 2.203125 \nL 7.625 11.71875 \nQ 11.71875 9.328125 16.59375 8.109375 \nQ 21.484375 6.890625 26.8125 6.890625 \nQ 36.078125 6.890625 40.9375 10.546875 \nQ 45.796875 14.203125 45.796875 21.1875 \nQ 45.796875 27.640625 41.28125 31.265625 \nQ 36.765625 34.90625 28.71875 34.90625 \nL 20.21875 34.90625 \nL 20.21875 43.015625 \nL 29.109375 43.015625 \nQ 36.375 43.015625 40.234375 45.921875 \nQ 44.09375 48.828125 44.09375 54.296875 \nQ 44.09375 59.90625 40.109375 62.90625 \nQ 36.140625 65.921875 28.71875 65.921875 \nQ 24.65625 65.921875 20.015625 65.03125 \nQ 15.375 64.15625 9.8125 62.3125 \nL 9.8125 71.09375 \nQ 15.4375 72.65625 20.34375 73.4375 \nQ 25.25 74.21875 29.59375 74.21875 \nQ 40.828125 74.21875 47.359375 69.109375 \nQ 53.90625 64.015625 53.90625 55.328125 \nQ 53.90625 49.265625 50.4375 45.09375 \nQ 46.96875 40.921875 40.578125 39.3125 \nz\n\" id=\"DejaVuSans-51\"/>\n       </defs>\n       <use xlink:href=\"#DejaVuSans-112\"/>\n       <use x=\"63.476562\" xlink:href=\"#DejaVuSans-115\"/>\n       <use x=\"115.576172\" xlink:href=\"#DejaVuSans-95\"/>\n       <use x=\"165.576172\" xlink:href=\"#DejaVuSans-114\"/>\n       <use x=\"204.439453\" xlink:href=\"#DejaVuSans-101\"/>\n       <use x=\"265.962891\" xlink:href=\"#DejaVuSans-103\"/>\n       <use x=\"329.439453\" xlink:href=\"#DejaVuSans-95\"/>\n       <use x=\"379.439453\" xlink:href=\"#DejaVuSans-48\"/>\n       <use x=\"443.0625\" xlink:href=\"#DejaVuSans-51\"/>\n      </g>\n     </g>\n    </g>\n    <g id=\"xtick_5\">\n     <g id=\"line2d_5\">\n      <g>\n       <use style=\"stroke:#000000;stroke-width:0.8;\" x=\"293.357812\" xlink:href=\"#mf8bcd4466c\" y=\"497.78618\"/>\n      </g>\n     </g>\n     <g id=\"text_5\">\n      <!-- ps_car_01_cat -->\n      <g transform=\"translate(270.198961 559.932775)rotate(-45)scale(0.1 -0.1)\">\n       <defs>\n        <path d=\"M 12.40625 8.296875 \nL 28.515625 8.296875 \nL 28.515625 63.921875 \nL 10.984375 60.40625 \nL 10.984375 69.390625 \nL 28.421875 72.90625 \nL 38.28125 72.90625 \nL 38.28125 8.296875 \nL 54.390625 8.296875 \nL 54.390625 0 \nL 12.40625 0 \nz\n\" id=\"DejaVuSans-49\"/>\n       </defs>\n       <use xlink:href=\"#DejaVuSans-112\"/>\n       <use x=\"63.476562\" xlink:href=\"#DejaVuSans-115\"/>\n       <use x=\"115.576172\" xlink:href=\"#DejaVuSans-95\"/>\n       <use x=\"165.576172\" xlink:href=\"#DejaVuSans-99\"/>\n       <use x=\"220.556641\" xlink:href=\"#DejaVuSans-97\"/>\n       <use x=\"281.835938\" xlink:href=\"#DejaVuSans-114\"/>\n       <use x=\"322.949219\" xlink:href=\"#DejaVuSans-95\"/>\n       <use x=\"372.949219\" xlink:href=\"#DejaVuSans-48\"/>\n       <use x=\"436.572266\" xlink:href=\"#DejaVuSans-49\"/>\n       <use x=\"500.195312\" xlink:href=\"#DejaVuSans-95\"/>\n       <use x=\"550.195312\" xlink:href=\"#DejaVuSans-99\"/>\n       <use x=\"605.175781\" xlink:href=\"#DejaVuSans-97\"/>\n       <use x=\"666.455078\" xlink:href=\"#DejaVuSans-116\"/>\n      </g>\n     </g>\n    </g>\n    <g id=\"xtick_6\">\n     <g id=\"line2d_6\">\n      <g>\n       <use style=\"stroke:#000000;stroke-width:0.8;\" x=\"348.323437\" xlink:href=\"#mf8bcd4466c\" y=\"497.78618\"/>\n      </g>\n     </g>\n     <g id=\"text_6\">\n      <!-- ps_car_02_cat -->\n      <g transform=\"translate(325.164586 559.932775)rotate(-45)scale(0.1 -0.1)\">\n       <use xlink:href=\"#DejaVuSans-112\"/>\n       <use x=\"63.476562\" xlink:href=\"#DejaVuSans-115\"/>\n       <use x=\"115.576172\" xlink:href=\"#DejaVuSans-95\"/>\n       <use x=\"165.576172\" xlink:href=\"#DejaVuSans-99\"/>\n       <use x=\"220.556641\" xlink:href=\"#DejaVuSans-97\"/>\n       <use x=\"281.835938\" xlink:href=\"#DejaVuSans-114\"/>\n       <use x=\"322.949219\" xlink:href=\"#DejaVuSans-95\"/>\n       <use x=\"372.949219\" xlink:href=\"#DejaVuSans-48\"/>\n       <use x=\"436.572266\" xlink:href=\"#DejaVuSans-50\"/>\n       <use x=\"500.195312\" xlink:href=\"#DejaVuSans-95\"/>\n       <use x=\"550.195312\" xlink:href=\"#DejaVuSans-99\"/>\n       <use x=\"605.175781\" xlink:href=\"#DejaVuSans-97\"/>\n       <use x=\"666.455078\" xlink:href=\"#DejaVuSans-116\"/>\n      </g>\n     </g>\n    </g>\n    <g id=\"xtick_7\">\n     <g id=\"line2d_7\">\n      <g>\n       <use style=\"stroke:#000000;stroke-width:0.8;\" x=\"403.289062\" xlink:href=\"#mf8bcd4466c\" y=\"497.78618\"/>\n      </g>\n     </g>\n     <g id=\"text_7\">\n      <!-- ps_car_03_cat -->\n      <g transform=\"translate(380.130211 559.932775)rotate(-45)scale(0.1 -0.1)\">\n       <use xlink:href=\"#DejaVuSans-112\"/>\n       <use x=\"63.476562\" xlink:href=\"#DejaVuSans-115\"/>\n       <use x=\"115.576172\" xlink:href=\"#DejaVuSans-95\"/>\n       <use x=\"165.576172\" xlink:href=\"#DejaVuSans-99\"/>\n       <use x=\"220.556641\" xlink:href=\"#DejaVuSans-97\"/>\n       <use x=\"281.835938\" xlink:href=\"#DejaVuSans-114\"/>\n       <use x=\"322.949219\" xlink:href=\"#DejaVuSans-95\"/>\n       <use x=\"372.949219\" xlink:href=\"#DejaVuSans-48\"/>\n       <use x=\"436.572266\" xlink:href=\"#DejaVuSans-51\"/>\n       <use x=\"500.195312\" xlink:href=\"#DejaVuSans-95\"/>\n       <use x=\"550.195312\" xlink:href=\"#DejaVuSans-99\"/>\n       <use x=\"605.175781\" xlink:href=\"#DejaVuSans-97\"/>\n       <use x=\"666.455078\" xlink:href=\"#DejaVuSans-116\"/>\n      </g>\n     </g>\n    </g>\n    <g id=\"xtick_8\">\n     <g id=\"line2d_8\">\n      <g>\n       <use style=\"stroke:#000000;stroke-width:0.8;\" x=\"458.254687\" xlink:href=\"#mf8bcd4466c\" y=\"497.78618\"/>\n      </g>\n     </g>\n     <g id=\"text_8\">\n      <!-- ps_car_05_cat -->\n      <g transform=\"translate(435.095836 559.932775)rotate(-45)scale(0.1 -0.1)\">\n       <use xlink:href=\"#DejaVuSans-112\"/>\n       <use x=\"63.476562\" xlink:href=\"#DejaVuSans-115\"/>\n       <use x=\"115.576172\" xlink:href=\"#DejaVuSans-95\"/>\n       <use x=\"165.576172\" xlink:href=\"#DejaVuSans-99\"/>\n       <use x=\"220.556641\" xlink:href=\"#DejaVuSans-97\"/>\n       <use x=\"281.835938\" xlink:href=\"#DejaVuSans-114\"/>\n       <use x=\"322.949219\" xlink:href=\"#DejaVuSans-95\"/>\n       <use x=\"372.949219\" xlink:href=\"#DejaVuSans-48\"/>\n       <use x=\"436.572266\" xlink:href=\"#DejaVuSans-53\"/>\n       <use x=\"500.195312\" xlink:href=\"#DejaVuSans-95\"/>\n       <use x=\"550.195312\" xlink:href=\"#DejaVuSans-99\"/>\n       <use x=\"605.175781\" xlink:href=\"#DejaVuSans-97\"/>\n       <use x=\"666.455078\" xlink:href=\"#DejaVuSans-116\"/>\n      </g>\n     </g>\n    </g>\n    <g id=\"xtick_9\">\n     <g id=\"line2d_9\">\n      <g>\n       <use style=\"stroke:#000000;stroke-width:0.8;\" x=\"513.220312\" xlink:href=\"#mf8bcd4466c\" y=\"497.78618\"/>\n      </g>\n     </g>\n     <g id=\"text_9\">\n      <!-- ps_car_07_cat -->\n      <g transform=\"translate(490.061461 559.932775)rotate(-45)scale(0.1 -0.1)\">\n       <defs>\n        <path d=\"M 8.203125 72.90625 \nL 55.078125 72.90625 \nL 55.078125 68.703125 \nL 28.609375 0 \nL 18.3125 0 \nL 43.21875 64.59375 \nL 8.203125 64.59375 \nz\n\" id=\"DejaVuSans-55\"/>\n       </defs>\n       <use xlink:href=\"#DejaVuSans-112\"/>\n       <use x=\"63.476562\" xlink:href=\"#DejaVuSans-115\"/>\n       <use x=\"115.576172\" xlink:href=\"#DejaVuSans-95\"/>\n       <use x=\"165.576172\" xlink:href=\"#DejaVuSans-99\"/>\n       <use x=\"220.556641\" xlink:href=\"#DejaVuSans-97\"/>\n       <use x=\"281.835938\" xlink:href=\"#DejaVuSans-114\"/>\n       <use x=\"322.949219\" xlink:href=\"#DejaVuSans-95\"/>\n       <use x=\"372.949219\" xlink:href=\"#DejaVuSans-48\"/>\n       <use x=\"436.572266\" xlink:href=\"#DejaVuSans-55\"/>\n       <use x=\"500.195312\" xlink:href=\"#DejaVuSans-95\"/>\n       <use x=\"550.195312\" xlink:href=\"#DejaVuSans-99\"/>\n       <use x=\"605.175781\" xlink:href=\"#DejaVuSans-97\"/>\n       <use x=\"666.455078\" xlink:href=\"#DejaVuSans-116\"/>\n      </g>\n     </g>\n    </g>\n    <g id=\"xtick_10\">\n     <g id=\"line2d_10\">\n      <g>\n       <use style=\"stroke:#000000;stroke-width:0.8;\" x=\"568.185937\" xlink:href=\"#mf8bcd4466c\" y=\"497.78618\"/>\n      </g>\n     </g>\n     <g id=\"text_10\">\n      <!-- ps_car_09_cat -->\n      <g transform=\"translate(545.027086 559.932775)rotate(-45)scale(0.1 -0.1)\">\n       <defs>\n        <path d=\"M 10.984375 1.515625 \nL 10.984375 10.5 \nQ 14.703125 8.734375 18.5 7.8125 \nQ 22.3125 6.890625 25.984375 6.890625 \nQ 35.75 6.890625 40.890625 13.453125 \nQ 46.046875 20.015625 46.78125 33.40625 \nQ 43.953125 29.203125 39.59375 26.953125 \nQ 35.25 24.703125 29.984375 24.703125 \nQ 19.046875 24.703125 12.671875 31.3125 \nQ 6.296875 37.9375 6.296875 49.421875 \nQ 6.296875 60.640625 12.9375 67.421875 \nQ 19.578125 74.21875 30.609375 74.21875 \nQ 43.265625 74.21875 49.921875 64.515625 \nQ 56.59375 54.828125 56.59375 36.375 \nQ 56.59375 19.140625 48.40625 8.859375 \nQ 40.234375 -1.421875 26.421875 -1.421875 \nQ 22.703125 -1.421875 18.890625 -0.6875 \nQ 15.09375 0.046875 10.984375 1.515625 \nz\nM 30.609375 32.421875 \nQ 37.25 32.421875 41.125 36.953125 \nQ 45.015625 41.5 45.015625 49.421875 \nQ 45.015625 57.28125 41.125 61.84375 \nQ 37.25 66.40625 30.609375 66.40625 \nQ 23.96875 66.40625 20.09375 61.84375 \nQ 16.21875 57.28125 16.21875 49.421875 \nQ 16.21875 41.5 20.09375 36.953125 \nQ 23.96875 32.421875 30.609375 32.421875 \nz\n\" id=\"DejaVuSans-57\"/>\n       </defs>\n       <use xlink:href=\"#DejaVuSans-112\"/>\n       <use x=\"63.476562\" xlink:href=\"#DejaVuSans-115\"/>\n       <use x=\"115.576172\" xlink:href=\"#DejaVuSans-95\"/>\n       <use x=\"165.576172\" xlink:href=\"#DejaVuSans-99\"/>\n       <use x=\"220.556641\" xlink:href=\"#DejaVuSans-97\"/>\n       <use x=\"281.835938\" xlink:href=\"#DejaVuSans-114\"/>\n       <use x=\"322.949219\" xlink:href=\"#DejaVuSans-95\"/>\n       <use x=\"372.949219\" xlink:href=\"#DejaVuSans-48\"/>\n       <use x=\"436.572266\" xlink:href=\"#DejaVuSans-57\"/>\n       <use x=\"500.195312\" xlink:href=\"#DejaVuSans-95\"/>\n       <use x=\"550.195312\" xlink:href=\"#DejaVuSans-99\"/>\n       <use x=\"605.175781\" xlink:href=\"#DejaVuSans-97\"/>\n       <use x=\"666.455078\" xlink:href=\"#DejaVuSans-116\"/>\n      </g>\n     </g>\n    </g>\n    <g id=\"xtick_11\">\n     <g id=\"line2d_11\">\n      <g>\n       <use style=\"stroke:#000000;stroke-width:0.8;\" x=\"623.151562\" xlink:href=\"#mf8bcd4466c\" y=\"497.78618\"/>\n      </g>\n     </g>\n     <g id=\"text_11\">\n      <!-- ps_car_11 -->\n      <g transform=\"translate(607.22122 545.332125)rotate(-45)scale(0.1 -0.1)\">\n       <use xlink:href=\"#DejaVuSans-112\"/>\n       <use x=\"63.476562\" xlink:href=\"#DejaVuSans-115\"/>\n       <use x=\"115.576172\" xlink:href=\"#DejaVuSans-95\"/>\n       <use x=\"165.576172\" xlink:href=\"#DejaVuSans-99\"/>\n       <use x=\"220.556641\" xlink:href=\"#DejaVuSans-97\"/>\n       <use x=\"281.835938\" xlink:href=\"#DejaVuSans-114\"/>\n       <use x=\"322.949219\" xlink:href=\"#DejaVuSans-95\"/>\n       <use x=\"372.949219\" xlink:href=\"#DejaVuSans-49\"/>\n       <use x=\"436.572266\" xlink:href=\"#DejaVuSans-49\"/>\n      </g>\n     </g>\n    </g>\n    <g id=\"xtick_12\">\n     <g id=\"line2d_12\">\n      <g>\n       <use style=\"stroke:#000000;stroke-width:0.8;\" x=\"678.117187\" xlink:href=\"#mf8bcd4466c\" y=\"497.78618\"/>\n      </g>\n     </g>\n     <g id=\"text_12\">\n      <!-- ps_car_14 -->\n      <g transform=\"translate(662.186845 545.332125)rotate(-45)scale(0.1 -0.1)\">\n       <use xlink:href=\"#DejaVuSans-112\"/>\n       <use x=\"63.476562\" xlink:href=\"#DejaVuSans-115\"/>\n       <use x=\"115.576172\" xlink:href=\"#DejaVuSans-95\"/>\n       <use x=\"165.576172\" xlink:href=\"#DejaVuSans-99\"/>\n       <use x=\"220.556641\" xlink:href=\"#DejaVuSans-97\"/>\n       <use x=\"281.835938\" xlink:href=\"#DejaVuSans-114\"/>\n       <use x=\"322.949219\" xlink:href=\"#DejaVuSans-95\"/>\n       <use x=\"372.949219\" xlink:href=\"#DejaVuSans-49\"/>\n       <use x=\"436.572266\" xlink:href=\"#DejaVuSans-52\"/>\n      </g>\n     </g>\n    </g>\n   </g>\n   <g id=\"matplotlib.axis_2\">\n    <g id=\"ytick_1\">\n     <g id=\"line2d_13\">\n      <defs>\n       <path d=\"M 0 0 \nL -3.5 0 \n\" id=\"mb2e9b256f1\" style=\"stroke:#000000;stroke-width:0.8;\"/>\n      </defs>\n      <g>\n       <use style=\"stroke:#000000;stroke-width:0.8;\" x=\"46.0125\" xlink:href=\"#mb2e9b256f1\" y=\"497.78618\"/>\n      </g>\n     </g>\n     <g id=\"text_13\">\n      <!-- 0 -->\n      <g transform=\"translate(32.65 501.585399)scale(0.1 -0.1)\">\n       <use xlink:href=\"#DejaVuSans-48\"/>\n      </g>\n     </g>\n    </g>\n    <g id=\"ytick_2\">\n     <g id=\"line2d_14\">\n      <g>\n       <use style=\"stroke:#000000;stroke-width:0.8;\" x=\"46.0125\" xlink:href=\"#mb2e9b256f1\" y=\"441.196754\"/>\n      </g>\n     </g>\n     <g id=\"text_14\">\n      <!-- 5000 -->\n      <g transform=\"translate(13.5625 444.995973)scale(0.1 -0.1)\">\n       <use xlink:href=\"#DejaVuSans-53\"/>\n       <use x=\"63.623047\" xlink:href=\"#DejaVuSans-48\"/>\n       <use x=\"127.246094\" xlink:href=\"#DejaVuSans-48\"/>\n       <use x=\"190.869141\" xlink:href=\"#DejaVuSans-48\"/>\n      </g>\n     </g>\n    </g>\n    <g id=\"ytick_3\">\n     <g id=\"line2d_15\">\n      <g>\n       <use style=\"stroke:#000000;stroke-width:0.8;\" x=\"46.0125\" xlink:href=\"#mb2e9b256f1\" y=\"384.607329\"/>\n      </g>\n     </g>\n     <g id=\"text_15\">\n      <!-- 10000 -->\n      <g transform=\"translate(7.2 388.406547)scale(0.1 -0.1)\">\n       <use xlink:href=\"#DejaVuSans-49\"/>\n       <use x=\"63.623047\" xlink:href=\"#DejaVuSans-48\"/>\n       <use x=\"127.246094\" xlink:href=\"#DejaVuSans-48\"/>\n       <use x=\"190.869141\" xlink:href=\"#DejaVuSans-48\"/>\n       <use x=\"254.492188\" xlink:href=\"#DejaVuSans-48\"/>\n      </g>\n     </g>\n    </g>\n    <g id=\"ytick_4\">\n     <g id=\"line2d_16\">\n      <g>\n       <use style=\"stroke:#000000;stroke-width:0.8;\" x=\"46.0125\" xlink:href=\"#mb2e9b256f1\" y=\"328.017903\"/>\n      </g>\n     </g>\n     <g id=\"text_16\">\n      <!-- 15000 -->\n      <g transform=\"translate(7.2 331.817122)scale(0.1 -0.1)\">\n       <use xlink:href=\"#DejaVuSans-49\"/>\n       <use x=\"63.623047\" xlink:href=\"#DejaVuSans-53\"/>\n       <use x=\"127.246094\" xlink:href=\"#DejaVuSans-48\"/>\n       <use x=\"190.869141\" xlink:href=\"#DejaVuSans-48\"/>\n       <use x=\"254.492188\" xlink:href=\"#DejaVuSans-48\"/>\n      </g>\n     </g>\n    </g>\n    <g id=\"ytick_5\">\n     <g id=\"line2d_17\">\n      <g>\n       <use style=\"stroke:#000000;stroke-width:0.8;\" x=\"46.0125\" xlink:href=\"#mb2e9b256f1\" y=\"271.428478\"/>\n      </g>\n     </g>\n     <g id=\"text_17\">\n      <!-- 20000 -->\n      <g transform=\"translate(7.2 275.227696)scale(0.1 -0.1)\">\n       <use xlink:href=\"#DejaVuSans-50\"/>\n       <use x=\"63.623047\" xlink:href=\"#DejaVuSans-48\"/>\n       <use x=\"127.246094\" xlink:href=\"#DejaVuSans-48\"/>\n       <use x=\"190.869141\" xlink:href=\"#DejaVuSans-48\"/>\n       <use x=\"254.492188\" xlink:href=\"#DejaVuSans-48\"/>\n      </g>\n     </g>\n    </g>\n    <g id=\"ytick_6\">\n     <g id=\"line2d_18\">\n      <g>\n       <use style=\"stroke:#000000;stroke-width:0.8;\" x=\"46.0125\" xlink:href=\"#mb2e9b256f1\" y=\"214.839052\"/>\n      </g>\n     </g>\n     <g id=\"text_18\">\n      <!-- 25000 -->\n      <g transform=\"translate(7.2 218.638271)scale(0.1 -0.1)\">\n       <use xlink:href=\"#DejaVuSans-50\"/>\n       <use x=\"63.623047\" xlink:href=\"#DejaVuSans-53\"/>\n       <use x=\"127.246094\" xlink:href=\"#DejaVuSans-48\"/>\n       <use x=\"190.869141\" xlink:href=\"#DejaVuSans-48\"/>\n       <use x=\"254.492188\" xlink:href=\"#DejaVuSans-48\"/>\n      </g>\n     </g>\n    </g>\n    <g id=\"ytick_7\">\n     <g id=\"line2d_19\">\n      <g>\n       <use style=\"stroke:#000000;stroke-width:0.8;\" x=\"46.0125\" xlink:href=\"#mb2e9b256f1\" y=\"158.249626\"/>\n      </g>\n     </g>\n     <g id=\"text_19\">\n      <!-- 30000 -->\n      <g transform=\"translate(7.2 162.048845)scale(0.1 -0.1)\">\n       <use xlink:href=\"#DejaVuSans-51\"/>\n       <use x=\"63.623047\" xlink:href=\"#DejaVuSans-48\"/>\n       <use x=\"127.246094\" xlink:href=\"#DejaVuSans-48\"/>\n       <use x=\"190.869141\" xlink:href=\"#DejaVuSans-48\"/>\n       <use x=\"254.492188\" xlink:href=\"#DejaVuSans-48\"/>\n      </g>\n     </g>\n    </g>\n    <g id=\"ytick_8\">\n     <g id=\"line2d_20\">\n      <g>\n       <use style=\"stroke:#000000;stroke-width:0.8;\" x=\"46.0125\" xlink:href=\"#mb2e9b256f1\" y=\"101.660201\"/>\n      </g>\n     </g>\n     <g id=\"text_20\">\n      <!-- 35000 -->\n      <g transform=\"translate(7.2 105.45942)scale(0.1 -0.1)\">\n       <use xlink:href=\"#DejaVuSans-51\"/>\n       <use x=\"63.623047\" xlink:href=\"#DejaVuSans-53\"/>\n       <use x=\"127.246094\" xlink:href=\"#DejaVuSans-48\"/>\n       <use x=\"190.869141\" xlink:href=\"#DejaVuSans-48\"/>\n       <use x=\"254.492188\" xlink:href=\"#DejaVuSans-48\"/>\n      </g>\n     </g>\n    </g>\n    <g id=\"ytick_9\">\n     <g id=\"line2d_21\">\n      <g>\n       <use style=\"stroke:#000000;stroke-width:0.8;\" x=\"46.0125\" xlink:href=\"#mb2e9b256f1\" y=\"45.070775\"/>\n      </g>\n     </g>\n     <g id=\"text_21\">\n      <!-- 40000 -->\n      <g transform=\"translate(7.2 48.869994)scale(0.1 -0.1)\">\n       <use xlink:href=\"#DejaVuSans-52\"/>\n       <use x=\"63.623047\" xlink:href=\"#DejaVuSans-48\"/>\n       <use x=\"127.246094\" xlink:href=\"#DejaVuSans-48\"/>\n       <use x=\"190.869141\" xlink:href=\"#DejaVuSans-48\"/>\n       <use x=\"254.492188\" xlink:href=\"#DejaVuSans-48\"/>\n      </g>\n     </g>\n    </g>\n   </g>\n   <g id=\"patch_15\">\n    <path d=\"M 46.0125 497.78618 \nL 46.0125 7.2 \n\" style=\"fill:none;stroke:#000000;stroke-linecap:square;stroke-linejoin:miter;stroke-width:0.8;\"/>\n   </g>\n   <g id=\"patch_16\">\n    <path d=\"M 705.6 497.78618 \nL 705.6 7.2 \n\" style=\"fill:none;stroke:#000000;stroke-linecap:square;stroke-linejoin:miter;stroke-width:0.8;\"/>\n   </g>\n   <g id=\"patch_17\">\n    <path d=\"M 46.0125 497.78618 \nL 705.6 497.78618 \n\" style=\"fill:none;stroke:#000000;stroke-linecap:square;stroke-linejoin:miter;stroke-width:0.8;\"/>\n   </g>\n   <g id=\"patch_18\">\n    <path d=\"M 46.0125 7.2 \nL 705.6 7.2 \n\" style=\"fill:none;stroke:#000000;stroke-linecap:square;stroke-linejoin:miter;stroke-width:0.8;\"/>\n   </g>\n   <g id=\"text_22\">\n    <!-- 24 -->\n    <g transform=\"translate(60.028734 497.513192)scale(0.1 -0.1)\">\n     <use xlink:href=\"#DejaVuSans-50\"/>\n     <use x=\"63.623047\" xlink:href=\"#DejaVuSans-52\"/>\n    </g>\n   </g>\n   <g id=\"text_23\">\n    <!-- 7 -->\n    <g transform=\"translate(113.895047 497.706559)scale(0.1 -0.1)\">\n     <use xlink:href=\"#DejaVuSans-55\"/>\n    </g>\n   </g>\n   <g id=\"text_24\">\n    <!-- 565 -->\n    <g transform=\"translate(167.761359 491.359602)scale(0.1 -0.1)\">\n     <defs>\n      <path d=\"M 33.015625 40.375 \nQ 26.375 40.375 22.484375 35.828125 \nQ 18.609375 31.296875 18.609375 23.390625 \nQ 18.609375 15.53125 22.484375 10.953125 \nQ 26.375 6.390625 33.015625 6.390625 \nQ 39.65625 6.390625 43.53125 10.953125 \nQ 47.40625 15.53125 47.40625 23.390625 \nQ 47.40625 31.296875 43.53125 35.828125 \nQ 39.65625 40.375 33.015625 40.375 \nz\nM 52.59375 71.296875 \nL 52.59375 62.3125 \nQ 48.875 64.0625 45.09375 64.984375 \nQ 41.3125 65.921875 37.59375 65.921875 \nQ 27.828125 65.921875 22.671875 59.328125 \nQ 17.53125 52.734375 16.796875 39.40625 \nQ 19.671875 43.65625 24.015625 45.921875 \nQ 28.375 48.1875 33.59375 48.1875 \nQ 44.578125 48.1875 50.953125 41.515625 \nQ 57.328125 34.859375 57.328125 23.390625 \nQ 57.328125 12.15625 50.6875 5.359375 \nQ 44.046875 -1.421875 33.015625 -1.421875 \nQ 20.359375 -1.421875 13.671875 8.265625 \nQ 6.984375 17.96875 6.984375 36.375 \nQ 6.984375 53.65625 15.1875 63.9375 \nQ 23.390625 74.21875 37.203125 74.21875 \nQ 40.921875 74.21875 44.703125 73.484375 \nQ 48.484375 72.75 52.59375 71.296875 \nz\n\" id=\"DejaVuSans-54\"/>\n     </defs>\n     <use xlink:href=\"#DejaVuSans-53\"/>\n     <use x=\"63.623047\" xlink:href=\"#DejaVuSans-54\"/>\n     <use x=\"127.246094\" xlink:href=\"#DejaVuSans-53\"/>\n    </g>\n   </g>\n   <g id=\"text_25\">\n    <!-- 10838 -->\n    <g transform=\"translate(221.627672 374.509625)scale(0.1 -0.1)\">\n     <defs>\n      <path d=\"M 31.78125 34.625 \nQ 24.75 34.625 20.71875 30.859375 \nQ 16.703125 27.09375 16.703125 20.515625 \nQ 16.703125 13.921875 20.71875 10.15625 \nQ 24.75 6.390625 31.78125 6.390625 \nQ 38.8125 6.390625 42.859375 10.171875 \nQ 46.921875 13.96875 46.921875 20.515625 \nQ 46.921875 27.09375 42.890625 30.859375 \nQ 38.875 34.625 31.78125 34.625 \nz\nM 21.921875 38.8125 \nQ 15.578125 40.375 12.03125 44.71875 \nQ 8.5 49.078125 8.5 55.328125 \nQ 8.5 64.0625 14.71875 69.140625 \nQ 20.953125 74.21875 31.78125 74.21875 \nQ 42.671875 74.21875 48.875 69.140625 \nQ 55.078125 64.0625 55.078125 55.328125 \nQ 55.078125 49.078125 51.53125 44.71875 \nQ 48 40.375 41.703125 38.8125 \nQ 48.828125 37.15625 52.796875 32.3125 \nQ 56.78125 27.484375 56.78125 20.515625 \nQ 56.78125 9.90625 50.3125 4.234375 \nQ 43.84375 -1.421875 31.78125 -1.421875 \nQ 19.734375 -1.421875 13.25 4.234375 \nQ 6.78125 9.90625 6.78125 20.515625 \nQ 6.78125 27.484375 10.78125 32.3125 \nQ 14.796875 37.15625 21.921875 38.8125 \nz\nM 18.3125 54.390625 \nQ 18.3125 48.734375 21.84375 45.5625 \nQ 25.390625 42.390625 31.78125 42.390625 \nQ 38.140625 42.390625 41.71875 45.5625 \nQ 45.3125 48.734375 45.3125 54.390625 \nQ 45.3125 60.0625 41.71875 63.234375 \nQ 38.140625 66.40625 31.78125 66.40625 \nQ 25.390625 66.40625 21.84375 63.234375 \nQ 18.3125 60.0625 18.3125 54.390625 \nz\n\" id=\"DejaVuSans-56\"/>\n     </defs>\n     <use xlink:href=\"#DejaVuSans-49\"/>\n     <use x=\"63.623047\" xlink:href=\"#DejaVuSans-48\"/>\n     <use x=\"127.246094\" xlink:href=\"#DejaVuSans-56\"/>\n     <use x=\"190.869141\" xlink:href=\"#DejaVuSans-51\"/>\n     <use x=\"254.492188\" xlink:href=\"#DejaVuSans-56\"/>\n    </g>\n   </g>\n   <g id=\"text_26\">\n    <!-- 9 -->\n    <g transform=\"translate(275.493984 497.68381)scale(0.1 -0.1)\">\n     <use xlink:href=\"#DejaVuSans-57\"/>\n    </g>\n   </g>\n   <g id=\"text_27\">\n    <!-- 1 -->\n    <g transform=\"translate(329.360297 497.774805)scale(0.1 -0.1)\">\n     <use xlink:href=\"#DejaVuSans-49\"/>\n    </g>\n   </g>\n   <g id=\"text_28\">\n    <!-- 41282 -->\n    <g transform=\"translate(383.226609 28.225122)scale(0.1 -0.1)\">\n     <use xlink:href=\"#DejaVuSans-52\"/>\n     <use x=\"63.623047\" xlink:href=\"#DejaVuSans-49\"/>\n     <use x=\"127.246094\" xlink:href=\"#DejaVuSans-50\"/>\n     <use x=\"190.869141\" xlink:href=\"#DejaVuSans-56\"/>\n     <use x=\"254.492188\" xlink:href=\"#DejaVuSans-50\"/>\n    </g>\n   </g>\n   <g id=\"text_29\">\n    <!-- 26923 -->\n    <g transform=\"translate(437.092922 191.551202)scale(0.1 -0.1)\">\n     <use xlink:href=\"#DejaVuSans-50\"/>\n     <use x=\"63.623047\" xlink:href=\"#DejaVuSans-54\"/>\n     <use x=\"127.246094\" xlink:href=\"#DejaVuSans-57\"/>\n     <use x=\"190.869141\" xlink:href=\"#DejaVuSans-50\"/>\n     <use x=\"254.492188\" xlink:href=\"#DejaVuSans-51\"/>\n    </g>\n   </g>\n   <g id=\"text_30\">\n    <!-- 1106 -->\n    <g transform=\"translate(490.959234 485.206011)scale(0.1 -0.1)\">\n     <use xlink:href=\"#DejaVuSans-49\"/>\n     <use x=\"63.623047\" xlink:href=\"#DejaVuSans-49\"/>\n     <use x=\"127.246094\" xlink:href=\"#DejaVuSans-48\"/>\n     <use x=\"190.869141\" xlink:href=\"#DejaVuSans-54\"/>\n    </g>\n   </g>\n   <g id=\"text_31\">\n    <!-- 54 -->\n    <g transform=\"translate(544.825547 497.171958)scale(0.1 -0.1)\">\n     <use xlink:href=\"#DejaVuSans-53\"/>\n     <use x=\"63.623047\" xlink:href=\"#DejaVuSans-52\"/>\n    </g>\n   </g>\n   <g id=\"text_32\">\n    <!-- 1 -->\n    <g transform=\"translate(598.691859 497.774805)scale(0.1 -0.1)\">\n     <use xlink:href=\"#DejaVuSans-49\"/>\n    </g>\n   </g>\n   <g id=\"text_33\">\n    <!-- 4227 -->\n    <g transform=\"translate(652.558172 449.706276)scale(0.1 -0.1)\">\n     <use xlink:href=\"#DejaVuSans-52\"/>\n     <use x=\"63.623047\" xlink:href=\"#DejaVuSans-50\"/>\n     <use x=\"127.246094\" xlink:href=\"#DejaVuSans-50\"/>\n     <use x=\"190.869141\" xlink:href=\"#DejaVuSans-55\"/>\n    </g>\n   </g>\n  </g>\n </g>\n <defs>\n  <clipPath id=\"pf3ea35aebb\">\n   <rect height=\"490.58618\" width=\"659.5875\" x=\"46.0125\" y=\"7.2\"/>\n  </clipPath>\n </defs>\n</svg>\n",
      "image/png": "[encoded data removed]"
     },
     "metadata": {
      "needs_background": "light"
     }
    }
   ],
   "metadata": {}
  },
  {
   "cell_type": "markdown",
   "source": [
    "Preparação dos dados para o experimento"
   ],
   "metadata": {}
  },
  {
   "cell_type": "code",
   "execution_count": 7,
   "source": [
    "from utils import db\n",
    "from tratamento_dados import normalizacao, valores_ausentes, balanceamento, reducao_dimensionalidade\n",
    "from sklearn.model_selection import train_test_split\n",
    "\n",
    "# Obtém uma amostra de 10%, separada em atributos e rótulos\n",
    "X, y = db.get_amostra_base(percentual=0.1)\n",
    "\n",
    "# Tratamento inicial de dados - Normalização e Valores ausentes\n",
    "X = valores_ausentes.tratar_valores_ausentes(X)\n",
    "X = normalizacao.normalizar_dados(X)\n",
    "X = reducao_dimensionalidade.reducao_pca(X)\n",
    "\n",
    "# Separação dos dados em treinamento e teste\n",
    "X_train, X_test, y_train, y_test = train_test_split(X, y, train_size=0.8, stratify=y)\n",
    "X_train, y_train = balanceamento.balanceamento(X_train, y_train)"
   ],
   "outputs": [
    {
     "output_type": "stream",
     "name": "stdout",
     "text": [
      "O balancemaneo dos dados iniciou...\n",
      "O balanceamento dos dados terminou e levou  299.75845193862915  segundos!\n"
     ]
    }
   ],
   "metadata": {}
  },
  {
   "cell_type": "code",
   "execution_count": 22,
   "source": [
    "from otimizacao import hiperparametros as hiper"
   ],
   "outputs": [],
   "metadata": {}
  },
  {
   "cell_type": "markdown",
   "source": [
    "Início da otimização de parâmetros"
   ],
   "metadata": {}
  },
  {
   "cell_type": "code",
   "execution_count": 24,
   "source": [
    "# from otimizacao import  hiperparametros as hiper\n",
    "\n",
    "X_train, X_vld, y_train, y_vld = train_test_split(X_train, y_train, test_size=0.2, stratify=y_train)"
   ],
   "outputs": [],
   "metadata": {}
  },
  {
   "cell_type": "markdown",
   "source": [
    "Melhores hiperparâmetros para o K-NN"
   ],
   "metadata": {}
  },
  {
   "cell_type": "code",
   "execution_count": 25,
   "source": [
    "%%capture --no-stdout\n",
    "from sklearn.neighbors import KNeighborsClassifier\n",
    "\n",
    "# Modelo K-NN\n",
    "modelo_knn = KNeighborsClassifier()\n",
    "grid_knn = hiper.melhores_hiperparametros(modelo_knn, hiper.conjunto_de_hiper_parametros()['knn'], X_train, X_vld, y_train, y_vld)\n",
    "\n",
    "print('Melhores hiperparâmetros para o K-NN')\n",
    "\n",
    "\n",
    "#vld_knn = vl.validacao_5x2(modelo_knn, X_train, y_train)\n",
    "# print(vld_knn)\n",
    "#vld_knn\n",
    "grid_knn"
   ],
   "outputs": [
    {
     "output_type": "stream",
     "name": "stdout",
     "text": [
      "              precision    recall  f1-score   support\n",
      "\n",
      "           0       0.52      0.96      0.68       347\n",
      "           1       0.77      0.12      0.21       347\n",
      "\n",
      "    accuracy                           0.54       694\n",
      "   macro avg       0.65      0.54      0.45       694\n",
      "weighted avg       0.65      0.54      0.45       694\n",
      "\n",
      "Melhores hiperparâmetros para o K-NN\n"
     ]
    }
   ],
   "metadata": {}
  },
  {
   "cell_type": "code",
   "execution_count": 26,
   "source": [
    "grid_knn.to_csv(r'resultados/pos_trat_knn_hyper.csv', index = False, header=True)\n",
    "grid_knn"
   ],
   "outputs": [
    {
     "output_type": "execute_result",
     "data": {
      "text/plain": [
       "   n_neighbors\n",
       "0           27"
      ],
      "text/html": [
       "<div>\n",
       "<style scoped>\n",
       "    .dataframe tbody tr th:only-of-type {\n",
       "        vertical-align: middle;\n",
       "    }\n",
       "\n",
       "    .dataframe tbody tr th {\n",
       "        vertical-align: top;\n",
       "    }\n",
       "\n",
       "    .dataframe thead th {\n",
       "        text-align: right;\n",
       "    }\n",
       "</style>\n",
       "<table border=\"1\" class=\"dataframe\">\n",
       "  <thead>\n",
       "    <tr style=\"text-align: right;\">\n",
       "      <th></th>\n",
       "      <th>n_neighbors</th>\n",
       "    </tr>\n",
       "  </thead>\n",
       "  <tbody>\n",
       "    <tr>\n",
       "      <th>0</th>\n",
       "      <td>27</td>\n",
       "    </tr>\n",
       "  </tbody>\n",
       "</table>\n",
       "</div>"
      ]
     },
     "metadata": {},
     "execution_count": 26
    }
   ],
   "metadata": {}
  },
  {
   "cell_type": "markdown",
   "source": [
    "Melhores hiperparâmetros para o MLP"
   ],
   "metadata": {}
  },
  {
   "cell_type": "code",
   "execution_count": 27,
   "source": [
    "%%capture --no-stdout\n",
    "from sklearn.neural_network import MLPClassifier\n",
    "\n",
    "modelo_mlp = MLPClassifier()\n",
    "\n",
    "\n",
    "grid_mlp = hiper.melhores_hiperparametros(modelo_mlp, hiper.conjunto_de_hiper_parametros()['mlp'], X_train, X_vld, y_train, y_vld)\n"
   ],
   "outputs": [
    {
     "output_type": "stream",
     "name": "stdout",
     "text": [
      "              precision    recall  f1-score   support\n",
      "\n",
      "           0       0.94      0.91      0.93       347\n",
      "           1       0.91      0.94      0.93       347\n",
      "\n",
      "    accuracy                           0.93       694\n",
      "   macro avg       0.93      0.93      0.93       694\n",
      "weighted avg       0.93      0.93      0.93       694\n",
      "\n"
     ]
    }
   ],
   "metadata": {}
  },
  {
   "cell_type": "code",
   "execution_count": 28,
   "source": [
    "grid_mlp.to_csv(r'resultados/pos_trat_mlp_hyper.csv', index = False, header=True)\n",
    "grid_mlp"
   ],
   "outputs": [
    {
     "output_type": "execute_result",
     "data": {
      "text/plain": [
       "  activation hidden_layer_sizes learning_rate_init\n",
       "0   logistic                 20               0.01"
      ],
      "text/html": [
       "<div>\n",
       "<style scoped>\n",
       "    .dataframe tbody tr th:only-of-type {\n",
       "        vertical-align: middle;\n",
       "    }\n",
       "\n",
       "    .dataframe tbody tr th {\n",
       "        vertical-align: top;\n",
       "    }\n",
       "\n",
       "    .dataframe thead th {\n",
       "        text-align: right;\n",
       "    }\n",
       "</style>\n",
       "<table border=\"1\" class=\"dataframe\">\n",
       "  <thead>\n",
       "    <tr style=\"text-align: right;\">\n",
       "      <th></th>\n",
       "      <th>activation</th>\n",
       "      <th>hidden_layer_sizes</th>\n",
       "      <th>learning_rate_init</th>\n",
       "    </tr>\n",
       "  </thead>\n",
       "  <tbody>\n",
       "    <tr>\n",
       "      <th>0</th>\n",
       "      <td>logistic</td>\n",
       "      <td>20</td>\n",
       "      <td>0.01</td>\n",
       "    </tr>\n",
       "  </tbody>\n",
       "</table>\n",
       "</div>"
      ]
     },
     "metadata": {},
     "execution_count": 28
    }
   ],
   "metadata": {}
  },
  {
   "cell_type": "markdown",
   "source": [
    "Melhores hiperparâmetros para o LVQ"
   ],
   "metadata": {}
  },
  {
   "cell_type": "code",
   "execution_count": 29,
   "source": [
    "%%capture --no-stdout\n",
    "from sklearn_lvq import GlvqModel\n",
    "\n",
    "modelo_lvq = GlvqModel()\n",
    "\n",
    "grid_lvq = hiper.melhores_hiperparametros(modelo_lvq, hiper.conjunto_de_hiper_parametros()['lvq'], X_train, X_vld, y_train, y_vld)"
   ],
   "outputs": [
    {
     "output_type": "stream",
     "name": "stdout",
     "text": [
      "              precision    recall  f1-score   support\n",
      "\n",
      "           0       0.52      0.89      0.66       347\n",
      "           1       0.63      0.19      0.30       347\n",
      "\n",
      "    accuracy                           0.54       694\n",
      "   macro avg       0.58      0.54      0.48       694\n",
      "weighted avg       0.58      0.54      0.48       694\n",
      "\n"
     ]
    }
   ],
   "metadata": {}
  },
  {
   "cell_type": "code",
   "execution_count": 30,
   "source": [
    "grid_lvq.to_csv(r'resultados/pos_trat_lvq_hyper.csv', index = False, header=True)\n",
    "grid_lvq\n"
   ],
   "outputs": [
    {
     "output_type": "execute_result",
     "data": {
      "text/plain": [
       "   prototypes_per_class\n",
       "0                     3"
      ],
      "text/html": [
       "<div>\n",
       "<style scoped>\n",
       "    .dataframe tbody tr th:only-of-type {\n",
       "        vertical-align: middle;\n",
       "    }\n",
       "\n",
       "    .dataframe tbody tr th {\n",
       "        vertical-align: top;\n",
       "    }\n",
       "\n",
       "    .dataframe thead th {\n",
       "        text-align: right;\n",
       "    }\n",
       "</style>\n",
       "<table border=\"1\" class=\"dataframe\">\n",
       "  <thead>\n",
       "    <tr style=\"text-align: right;\">\n",
       "      <th></th>\n",
       "      <th>prototypes_per_class</th>\n",
       "    </tr>\n",
       "  </thead>\n",
       "  <tbody>\n",
       "    <tr>\n",
       "      <th>0</th>\n",
       "      <td>3</td>\n",
       "    </tr>\n",
       "  </tbody>\n",
       "</table>\n",
       "</div>"
      ]
     },
     "metadata": {},
     "execution_count": 30
    }
   ],
   "metadata": {}
  },
  {
   "cell_type": "markdown",
   "source": [
    "Melhores hiperparâmetros para árvore de decisão"
   ],
   "metadata": {}
  },
  {
   "cell_type": "code",
   "execution_count": 31,
   "source": [
    "%%capture --no-stdout\n",
    "from sklearn import tree\n",
    "modelo_tree = tree.DecisionTreeClassifier()\n",
    "\n",
    "grid_tree = hiper.melhores_hiperparametros(modelo_tree, hiper.conjunto_de_hiper_parametros()['tree'], X_train, X_vld, y_train, y_vld)\n"
   ],
   "outputs": [
    {
     "output_type": "stream",
     "name": "stdout",
     "text": [
      "              precision    recall  f1-score   support\n",
      "\n",
      "           0       0.81      0.90      0.86       347\n",
      "           1       0.89      0.79      0.84       347\n",
      "\n",
      "    accuracy                           0.85       694\n",
      "   macro avg       0.85      0.85      0.85       694\n",
      "weighted avg       0.85      0.85      0.85       694\n",
      "\n"
     ]
    }
   ],
   "metadata": {}
  },
  {
   "cell_type": "code",
   "execution_count": 32,
   "source": [
    "grid_tree.to_csv(r'resultados/pos_trat_tree_hyper.csv', index = False, header=True)\n",
    "grid_tree"
   ],
   "outputs": [
    {
     "output_type": "execute_result",
     "data": {
      "text/plain": [
       "  criterion max_depth min_samples_leaf min_samples_split\n",
       "0   entropy         9                4                 2"
      ],
      "text/html": [
       "<div>\n",
       "<style scoped>\n",
       "    .dataframe tbody tr th:only-of-type {\n",
       "        vertical-align: middle;\n",
       "    }\n",
       "\n",
       "    .dataframe tbody tr th {\n",
       "        vertical-align: top;\n",
       "    }\n",
       "\n",
       "    .dataframe thead th {\n",
       "        text-align: right;\n",
       "    }\n",
       "</style>\n",
       "<table border=\"1\" class=\"dataframe\">\n",
       "  <thead>\n",
       "    <tr style=\"text-align: right;\">\n",
       "      <th></th>\n",
       "      <th>criterion</th>\n",
       "      <th>max_depth</th>\n",
       "      <th>min_samples_leaf</th>\n",
       "      <th>min_samples_split</th>\n",
       "    </tr>\n",
       "  </thead>\n",
       "  <tbody>\n",
       "    <tr>\n",
       "      <th>0</th>\n",
       "      <td>entropy</td>\n",
       "      <td>9</td>\n",
       "      <td>4</td>\n",
       "      <td>2</td>\n",
       "    </tr>\n",
       "  </tbody>\n",
       "</table>\n",
       "</div>"
      ]
     },
     "metadata": {},
     "execution_count": 32
    }
   ],
   "metadata": {}
  },
  {
   "cell_type": "code",
   "execution_count": 33,
   "source": [
    "%%capture --no-stdout\n",
    "from sklearn import svm\n",
    "modelo_svm = svm.SVC()\n",
    "\n",
    "grid_svm = hiper.melhores_hiperparametros(modelo_svm, hiper.conjunto_de_hiper_parametros()['svm'], X_train, X_vld, y_train, y_vld)"
   ],
   "outputs": [
    {
     "output_type": "stream",
     "name": "stdout",
     "text": [
      "              precision    recall  f1-score   support\n",
      "\n",
      "           0       0.95      0.96      0.96       347\n",
      "           1       0.96      0.95      0.96       347\n",
      "\n",
      "    accuracy                           0.96       694\n",
      "   macro avg       0.96      0.96      0.96       694\n",
      "weighted avg       0.96      0.96      0.96       694\n",
      "\n"
     ]
    }
   ],
   "metadata": {}
  },
  {
   "cell_type": "code",
   "execution_count": 34,
   "source": [
    "\n",
    "\n",
    "grid_svm.to_csv(r'resultados/pos_trat_svm_hyper.csv', index = False, header=True)\n",
    "grid_svm"
   ],
   "outputs": [
    {
     "output_type": "execute_result",
     "data": {
      "text/plain": [
       "    C kernel\n",
       "0  10    rbf"
      ],
      "text/html": [
       "<div>\n",
       "<style scoped>\n",
       "    .dataframe tbody tr th:only-of-type {\n",
       "        vertical-align: middle;\n",
       "    }\n",
       "\n",
       "    .dataframe tbody tr th {\n",
       "        vertical-align: top;\n",
       "    }\n",
       "\n",
       "    .dataframe thead th {\n",
       "        text-align: right;\n",
       "    }\n",
       "</style>\n",
       "<table border=\"1\" class=\"dataframe\">\n",
       "  <thead>\n",
       "    <tr style=\"text-align: right;\">\n",
       "      <th></th>\n",
       "      <th>C</th>\n",
       "      <th>kernel</th>\n",
       "    </tr>\n",
       "  </thead>\n",
       "  <tbody>\n",
       "    <tr>\n",
       "      <th>0</th>\n",
       "      <td>10</td>\n",
       "      <td>rbf</td>\n",
       "    </tr>\n",
       "  </tbody>\n",
       "</table>\n",
       "</div>"
      ]
     },
     "metadata": {},
     "execution_count": 34
    }
   ],
   "metadata": {}
  },
  {
   "cell_type": "markdown",
   "source": [
    "Validação cruzada 5 x 2"
   ],
   "metadata": {}
  },
  {
   "cell_type": "markdown",
   "source": [
    "Validação cruzada"
   ],
   "metadata": {}
  },
  {
   "cell_type": "code",
   "execution_count": 39,
   "source": [
    "import validacao_cruzada as vl\n",
    "\n",
    "from sklearn.model_selection import train_test_split\n",
    "from utils import db\n",
    "from tratamento_dados import normalizacao, valores_ausentes\n",
    "from sklearn.model_selection import train_test_split\n",
    "\n",
    "# Importando os classificadores \n",
    "from sklearn.neighbors import KNeighborsClassifier\n",
    "from sklearn.neural_network import MLPClassifier\n",
    "from sklearn_lvq import GlvqModel\n",
    "from sklearn import tree\n",
    "from sklearn import svm\n",
    "\n",
    "\n",
    "# Obtém uma amostra de 5%, separada em atributos e rótulos\n",
    "X, y = db.get_amostra_base(percentual=0.1)\n",
    "\n",
    "# Tratamento inicial de dados - Normalização e Valores ausentes\n",
    "X = valores_ausentes.tratar_valores_ausentes(X)\n",
    "X = normalizacao.normalizar_dados(X)\n",
    "\n",
    "# Separação dos dados em treinamento e teste\n",
    "X_train, X_test, y_train, y_test = train_test_split(X, y, train_size=0.8, stratify=y)"
   ],
   "outputs": [],
   "metadata": {}
  },
  {
   "cell_type": "code",
   "execution_count": 9,
   "source": [
    "\n",
    "# Modelo K-NN\n",
    "modelo_knn = KNeighborsClassifier(n_neighbors=27)\n",
    "vld_knn = vl.validacao_5x2(modelo_knn, X_train, y_train)\n",
    "\n",
    "# Modelo MLP\n",
    "modelo_mlp  = MLPClassifier(activation='logistic', hidden_layer_sizes=20, learning_rate_init=0.01)\n",
    "vld_mlp = vl.validacao_5x2(modelo_mlp, X_train, y_train)\n",
    "\n",
    "# Modelo LVQ\n",
    "modelo_lvq = GlvqModel(prototypes_per_class=3)\n",
    "vld_lvq = vl.validacao_5x2(modelo_lvq, X_train, y_train)\n",
    "\n",
    "# Modelo Tree\n",
    "modelo_tree = tree.DecisionTreeClassifier(criterion='entropy', max_depth=9, min_samples_leaf=4, min_samples_split=2)\n",
    "vld_tree = vl.validacao_5x2(modelo_tree, X_train, y_train)\n",
    "\n",
    "# Modelo SVM\n",
    "modelo_svm = svm.SVC(kernel='rbf', C=10)\n",
    "vld_svm = vl.validacao_5x2(modelo_svm, X_train, y_train)\n"
   ],
   "outputs": [
    {
     "output_type": "stream",
     "name": "stdout",
     "text": [
      "A validação começou:  KNeighborsClassifier(n_neighbors=27)\n",
      "A validação de KNeighborsClassifier(n_neighbors=27)  terminou e levou  4.459949970245361  segundos!\n",
      "A validação começou:  MLPClassifier(activation='logistic', hidden_layer_sizes=20,\n",
      "              learning_rate_init=0.01)\n"
     ]
    },
    {
     "output_type": "stream",
     "name": "stderr",
     "text": [
      "/opt/anaconda3/lib/python3.8/site-packages/sklearn/neural_network/_multilayer_perceptron.py:614: ConvergenceWarning: Stochastic Optimizer: Maximum iterations (200) reached and the optimization hasn't converged yet.\n",
      "  warnings.warn(\n",
      "/opt/anaconda3/lib/python3.8/site-packages/sklearn/neural_network/_multilayer_perceptron.py:614: ConvergenceWarning: Stochastic Optimizer: Maximum iterations (200) reached and the optimization hasn't converged yet.\n",
      "  warnings.warn(\n",
      "/opt/anaconda3/lib/python3.8/site-packages/sklearn/neural_network/_multilayer_perceptron.py:614: ConvergenceWarning: Stochastic Optimizer: Maximum iterations (200) reached and the optimization hasn't converged yet.\n",
      "  warnings.warn(\n",
      "/opt/anaconda3/lib/python3.8/site-packages/sklearn/neural_network/_multilayer_perceptron.py:614: ConvergenceWarning: Stochastic Optimizer: Maximum iterations (200) reached and the optimization hasn't converged yet.\n",
      "  warnings.warn(\n",
      "/opt/anaconda3/lib/python3.8/site-packages/sklearn/neural_network/_multilayer_perceptron.py:614: ConvergenceWarning: Stochastic Optimizer: Maximum iterations (200) reached and the optimization hasn't converged yet.\n",
      "  warnings.warn(\n",
      "/opt/anaconda3/lib/python3.8/site-packages/sklearn/neural_network/_multilayer_perceptron.py:614: ConvergenceWarning: Stochastic Optimizer: Maximum iterations (200) reached and the optimization hasn't converged yet.\n",
      "  warnings.warn(\n",
      "/opt/anaconda3/lib/python3.8/site-packages/sklearn/neural_network/_multilayer_perceptron.py:614: ConvergenceWarning: Stochastic Optimizer: Maximum iterations (200) reached and the optimization hasn't converged yet.\n",
      "  warnings.warn(\n",
      "/opt/anaconda3/lib/python3.8/site-packages/sklearn/neural_network/_multilayer_perceptron.py:614: ConvergenceWarning: Stochastic Optimizer: Maximum iterations (200) reached and the optimization hasn't converged yet.\n",
      "  warnings.warn(\n",
      "/opt/anaconda3/lib/python3.8/site-packages/sklearn/neural_network/_multilayer_perceptron.py:614: ConvergenceWarning: Stochastic Optimizer: Maximum iterations (200) reached and the optimization hasn't converged yet.\n",
      "  warnings.warn(\n",
      "/opt/anaconda3/lib/python3.8/site-packages/sklearn/neural_network/_multilayer_perceptron.py:614: ConvergenceWarning: Stochastic Optimizer: Maximum iterations (200) reached and the optimization hasn't converged yet.\n",
      "  warnings.warn(\n"
     ]
    },
    {
     "output_type": "stream",
     "name": "stdout",
     "text": [
      "A validação de MLPClassifier(activation='logistic', hidden_layer_sizes=20,\n",
      "              learning_rate_init=0.01)  terminou e levou  17.828858137130737  segundos!\n",
      "A validação começou:  GlvqModel(prototypes_per_class=3)\n",
      "A validação de GlvqModel(prototypes_per_class=3)  terminou e levou  65.4730978012085  segundos!\n",
      "A validação começou:  DecisionTreeClassifier(criterion='entropy', max_depth=9, min_samples_leaf=4)\n",
      "A validação de DecisionTreeClassifier(criterion='entropy', max_depth=9, min_samples_leaf=4)  terminou e levou  0.8466858863830566  segundos!\n",
      "A validação começou:  SVC(C=10)\n",
      "A validação de SVC(C=10)  terminou e levou  7.516959190368652  segundos!\n"
     ]
    }
   ],
   "metadata": {}
  },
  {
   "cell_type": "code",
   "execution_count": 10,
   "source": [
    "vld_knn.to_csv(r'resultados/pos_trat_vld_knn.csv', index = False, header=True)\n",
    "vld_mlp.to_csv(r'resultados/pos_trat_vld_mlp.csv', index = False, header=True)\n",
    "vld_lvq.to_csv(r'resultados/pos_trat_vld_lvq.csv', index = False, header=True)\n",
    "vld_tree.to_csv(r'resultados/pos_trat_vld_tree.csv', index = False, header=True)\n",
    "vld_svm.to_csv(r'resultados/pos_trat_vld_svm.csv', index = False, header=True)"
   ],
   "outputs": [],
   "metadata": {}
  },
  {
   "cell_type": "code",
   "execution_count": 38,
   "source": [
    "import pandas as pd\n",
    "pd.options.display.float_format = \"{:,.3f}\".format\n",
    "vld_svm"
   ],
   "outputs": [
    {
     "output_type": "execute_result",
     "data": {
      "text/plain": [
       "                          0     1     2     3     4     5     6     7     8  \\\n",
       "fit_time              0.273 0.275 0.262 0.264 0.277 0.266 0.276 0.267 0.283   \n",
       "score_time            0.101 0.099 0.099 0.102 0.099 0.103 0.095 0.095 0.098   \n",
       "test_accuracy         0.944 0.950 0.938 0.950 0.950 0.937 0.952 0.941 0.948   \n",
       "train_accuracy        0.986 0.989 0.988 0.984 0.985 0.990 0.986 0.985 0.985   \n",
       "test_precision_macro  0.945 0.952 0.941 0.953 0.951 0.939 0.954 0.947 0.949   \n",
       "train_precision_macro 0.986 0.989 0.988 0.985 0.986 0.990 0.986 0.985 0.985   \n",
       "test_recall_macro     0.944 0.950 0.938 0.950 0.950 0.937 0.952 0.941 0.948   \n",
       "train_recall_macro    0.986 0.989 0.988 0.984 0.985 0.990 0.986 0.985 0.985   \n",
       "test_f1_macro         0.944 0.950 0.938 0.949 0.950 0.937 0.952 0.941 0.948   \n",
       "train_f1_macro        0.986 0.989 0.988 0.984 0.985 0.990 0.986 0.985 0.985   \n",
       "\n",
       "                          9  mean  \n",
       "fit_time              0.266 0.271  \n",
       "score_time            0.100 0.099  \n",
       "test_accuracy         0.947 0.946  \n",
       "train_accuracy        0.987 0.986  \n",
       "test_precision_macro  0.948 0.948  \n",
       "train_precision_macro 0.987 0.987  \n",
       "test_recall_macro     0.947 0.946  \n",
       "train_recall_macro    0.987 0.986  \n",
       "test_f1_macro         0.947 0.945  \n",
       "train_f1_macro        0.987 0.986  "
      ],
      "text/html": [
       "<div>\n",
       "<style scoped>\n",
       "    .dataframe tbody tr th:only-of-type {\n",
       "        vertical-align: middle;\n",
       "    }\n",
       "\n",
       "    .dataframe tbody tr th {\n",
       "        vertical-align: top;\n",
       "    }\n",
       "\n",
       "    .dataframe thead th {\n",
       "        text-align: right;\n",
       "    }\n",
       "</style>\n",
       "<table border=\"1\" class=\"dataframe\">\n",
       "  <thead>\n",
       "    <tr style=\"text-align: right;\">\n",
       "      <th></th>\n",
       "      <th>0</th>\n",
       "      <th>1</th>\n",
       "      <th>2</th>\n",
       "      <th>3</th>\n",
       "      <th>4</th>\n",
       "      <th>5</th>\n",
       "      <th>6</th>\n",
       "      <th>7</th>\n",
       "      <th>8</th>\n",
       "      <th>9</th>\n",
       "      <th>mean</th>\n",
       "    </tr>\n",
       "  </thead>\n",
       "  <tbody>\n",
       "    <tr>\n",
       "      <th>fit_time</th>\n",
       "      <td>0.273</td>\n",
       "      <td>0.275</td>\n",
       "      <td>0.262</td>\n",
       "      <td>0.264</td>\n",
       "      <td>0.277</td>\n",
       "      <td>0.266</td>\n",
       "      <td>0.276</td>\n",
       "      <td>0.267</td>\n",
       "      <td>0.283</td>\n",
       "      <td>0.266</td>\n",
       "      <td>0.271</td>\n",
       "    </tr>\n",
       "    <tr>\n",
       "      <th>score_time</th>\n",
       "      <td>0.101</td>\n",
       "      <td>0.099</td>\n",
       "      <td>0.099</td>\n",
       "      <td>0.102</td>\n",
       "      <td>0.099</td>\n",
       "      <td>0.103</td>\n",
       "      <td>0.095</td>\n",
       "      <td>0.095</td>\n",
       "      <td>0.098</td>\n",
       "      <td>0.100</td>\n",
       "      <td>0.099</td>\n",
       "    </tr>\n",
       "    <tr>\n",
       "      <th>test_accuracy</th>\n",
       "      <td>0.944</td>\n",
       "      <td>0.950</td>\n",
       "      <td>0.938</td>\n",
       "      <td>0.950</td>\n",
       "      <td>0.950</td>\n",
       "      <td>0.937</td>\n",
       "      <td>0.952</td>\n",
       "      <td>0.941</td>\n",
       "      <td>0.948</td>\n",
       "      <td>0.947</td>\n",
       "      <td>0.946</td>\n",
       "    </tr>\n",
       "    <tr>\n",
       "      <th>train_accuracy</th>\n",
       "      <td>0.986</td>\n",
       "      <td>0.989</td>\n",
       "      <td>0.988</td>\n",
       "      <td>0.984</td>\n",
       "      <td>0.985</td>\n",
       "      <td>0.990</td>\n",
       "      <td>0.986</td>\n",
       "      <td>0.985</td>\n",
       "      <td>0.985</td>\n",
       "      <td>0.987</td>\n",
       "      <td>0.986</td>\n",
       "    </tr>\n",
       "    <tr>\n",
       "      <th>test_precision_macro</th>\n",
       "      <td>0.945</td>\n",
       "      <td>0.952</td>\n",
       "      <td>0.941</td>\n",
       "      <td>0.953</td>\n",
       "      <td>0.951</td>\n",
       "      <td>0.939</td>\n",
       "      <td>0.954</td>\n",
       "      <td>0.947</td>\n",
       "      <td>0.949</td>\n",
       "      <td>0.948</td>\n",
       "      <td>0.948</td>\n",
       "    </tr>\n",
       "    <tr>\n",
       "      <th>train_precision_macro</th>\n",
       "      <td>0.986</td>\n",
       "      <td>0.989</td>\n",
       "      <td>0.988</td>\n",
       "      <td>0.985</td>\n",
       "      <td>0.986</td>\n",
       "      <td>0.990</td>\n",
       "      <td>0.986</td>\n",
       "      <td>0.985</td>\n",
       "      <td>0.985</td>\n",
       "      <td>0.987</td>\n",
       "      <td>0.987</td>\n",
       "    </tr>\n",
       "    <tr>\n",
       "      <th>test_recall_macro</th>\n",
       "      <td>0.944</td>\n",
       "      <td>0.950</td>\n",
       "      <td>0.938</td>\n",
       "      <td>0.950</td>\n",
       "      <td>0.950</td>\n",
       "      <td>0.937</td>\n",
       "      <td>0.952</td>\n",
       "      <td>0.941</td>\n",
       "      <td>0.948</td>\n",
       "      <td>0.947</td>\n",
       "      <td>0.946</td>\n",
       "    </tr>\n",
       "    <tr>\n",
       "      <th>train_recall_macro</th>\n",
       "      <td>0.986</td>\n",
       "      <td>0.989</td>\n",
       "      <td>0.988</td>\n",
       "      <td>0.984</td>\n",
       "      <td>0.985</td>\n",
       "      <td>0.990</td>\n",
       "      <td>0.986</td>\n",
       "      <td>0.985</td>\n",
       "      <td>0.985</td>\n",
       "      <td>0.987</td>\n",
       "      <td>0.986</td>\n",
       "    </tr>\n",
       "    <tr>\n",
       "      <th>test_f1_macro</th>\n",
       "      <td>0.944</td>\n",
       "      <td>0.950</td>\n",
       "      <td>0.938</td>\n",
       "      <td>0.949</td>\n",
       "      <td>0.950</td>\n",
       "      <td>0.937</td>\n",
       "      <td>0.952</td>\n",
       "      <td>0.941</td>\n",
       "      <td>0.948</td>\n",
       "      <td>0.947</td>\n",
       "      <td>0.945</td>\n",
       "    </tr>\n",
       "    <tr>\n",
       "      <th>train_f1_macro</th>\n",
       "      <td>0.986</td>\n",
       "      <td>0.989</td>\n",
       "      <td>0.988</td>\n",
       "      <td>0.984</td>\n",
       "      <td>0.985</td>\n",
       "      <td>0.990</td>\n",
       "      <td>0.986</td>\n",
       "      <td>0.985</td>\n",
       "      <td>0.985</td>\n",
       "      <td>0.987</td>\n",
       "      <td>0.986</td>\n",
       "    </tr>\n",
       "  </tbody>\n",
       "</table>\n",
       "</div>"
      ]
     },
     "metadata": {},
     "execution_count": 38
    }
   ],
   "metadata": {}
  },
  {
   "cell_type": "code",
   "execution_count": 39,
   "source": [
    "# from sklearn.decomposition import PCA\n",
    "# from utils import db\n",
    "# X, y = db.get_amostra_base(percentual=0.1)\n",
    "# pca = PCA()\n",
    "# X_transform = pca.fit_transform(X)\n",
    "# explained_variance = pca.explained_variance_ratio_\n"
   ],
   "outputs": [],
   "metadata": {}
  },
  {
   "cell_type": "code",
   "execution_count": 40,
   "source": [
    "# sum(explained_variance[0:20])"
   ],
   "outputs": [],
   "metadata": {}
  },
  {
   "cell_type": "markdown",
   "source": [
    "Teste dos modelos após balanceamento e PCA"
   ],
   "metadata": {}
  },
  {
   "cell_type": "code",
   "execution_count": 12,
   "source": [
    "\n",
    "# Modelo K-NN\n",
    "modelo_knn = KNeighborsClassifier(n_neighbors=27)\n",
    "modelo_knn.fit(X_train, y_train)\n",
    "knn_y_predict = modelo_knn.predict(X_test)\n",
    "scores_knn = modelo_knn.score(X_test, y_test)\n",
    "\n",
    "\n",
    "# Modelo MLP\n",
    "modelo_mlp  = MLPClassifier(activation='logistic', hidden_layer_sizes=20, learning_rate_init=0.01)\n",
    "modelo_mlp.fit(X_train, y_train)\n",
    "mlp_y_predict = modelo_mlp.predict(X_test)\n",
    "scores_mlp = modelo_mlp.score(X_test, y_test)\n",
    "\n",
    "# Modelo LVQ\n",
    "modelo_lvq = GlvqModel(prototypes_per_class=3)\n",
    "modelo_lvq.fit(X_train, y_train)\n",
    "lvq_y_predict = modelo_lvq.predict(X_test)\n",
    "scores_lvq = modelo_lvq.score(X_test, y_test)\n",
    "\n",
    "# Modelo Tree\n",
    "modelo_tree = tree.DecisionTreeClassifier(criterion='entropy', max_depth=9, min_samples_leaf=4, min_samples_split=2)\n",
    "modelo_tree.fit(X_train, y_train)\n",
    "tree_y_predict = modelo_tree.predict(X_test)\n",
    "scores_tree = modelo_tree.score(X_test, y_test)\n",
    "\n",
    "# Modelo SVM\n",
    "modelo_svm = svm.SVC(kernel='rbf', C=10)\n",
    "modelo_svm.fit(X_train, y_train)\n",
    "svm_y_predict = modelo_svm.predict(X_test)\n",
    "scores_svm = modelo_svm.score(X_test, y_test)\n"
   ],
   "outputs": [
    {
     "output_type": "stream",
     "name": "stderr",
     "text": [
      "/opt/anaconda3/lib/python3.8/site-packages/sklearn/neural_network/_multilayer_perceptron.py:614: ConvergenceWarning: Stochastic Optimizer: Maximum iterations (200) reached and the optimization hasn't converged yet.\n",
      "  warnings.warn(\n"
     ]
    }
   ],
   "metadata": {}
  },
  {
   "cell_type": "code",
   "execution_count": 18,
   "source": [
    "from sklearn.metrics import precision_score\n",
    "from sklearn.metrics import recall_score\n",
    "from sklearn.metrics import f1_score\n",
    "\n",
    "knn_test_precision = precision_score(y_test, knn_y_predict, average='macro')\n",
    "knn_test_recall = recall_score(y_test, knn_y_predict, average='macro')\n",
    "knn_test_f1 = f1_score(y_test, knn_y_predict, average='macro')\n",
    "print('K-NN precision: %.3f' %knn_test_precision)\n",
    "print('K-NN recall: %.3f' %knn_test_recall)\n",
    "print('K-NN f1: %.3f' %knn_test_f1)\n",
    "\n",
    "mlp_test_precision = precision_score(y_test, mlp_y_predict, average='macro')\n",
    "mlp_test_recall = recall_score(y_test, mlp_y_predict, average='macro')\n",
    "mlp_test_f1 = f1_score(y_test, mlp_y_predict, average='macro')\n",
    "print('MLP precision: %.3f' %mlp_test_precision)\n",
    "print('MLP recall: %.3f' %mlp_test_recall)\n",
    "print('MLP f1: %.3f' %mlp_test_f1)\n",
    "\n",
    "lvq_test_precision = precision_score(y_test, lvq_y_predict, average='macro')\n",
    "lvq_test_recall = recall_score(y_test, lvq_y_predict, average='macro')\n",
    "lvq_test_f1 = f1_score(y_test, lvq_y_predict, average='macro')\n",
    "print('lvq precision: %.3f' %lvq_test_precision)\n",
    "print('lvq recall: %.3f' %lvq_test_recall)\n",
    "print('lvq f1: %.3f' %lvq_test_f1)\n",
    "\n",
    "tree_test_precision = precision_score(y_test, tree_y_predict, average='macro')\n",
    "tree_test_recall = recall_score(y_test, tree_y_predict, average='macro')\n",
    "tree_test_f1 = f1_score(y_test, tree_y_predict, average='macro')\n",
    "print('tree precision: %.3f' %tree_test_precision)\n",
    "print('tree recall: %.3f' %tree_test_recall)\n",
    "print('tree f1: %.3f' %tree_test_f1)\n",
    "\n",
    "svm_test_precision = precision_score(y_test, svm_y_predict, average='macro')\n",
    "svm_test_recall = recall_score(y_test, svm_y_predict, average='macro')\n",
    "svm_test_f1 = f1_score(y_test, svm_y_predict, average='macro')\n",
    "print('svm precision: %.3f' %svm_test_precision)\n",
    "print('svm recall: %.3f' %svm_test_recall)\n",
    "print('svm f1: %.3f' %svm_test_f1)\n",
    "print('Score LVQ:%f' %scores_lvq)"
   ],
   "outputs": [
    {
     "output_type": "stream",
     "name": "stdout",
     "text": [
      "K-NN precision: 0.501\n",
      "K-NN recall: 0.501\n",
      "K-NN f1: 0.498\n",
      "MLP precision: 0.501\n",
      "MLP recall: 0.504\n",
      "MLP f1: 0.133\n",
      "lvq precision: 0.505\n",
      "lvq recall: 0.518\n",
      "lvq f1: 0.483\n",
      "tree precision: 0.501\n",
      "tree recall: 0.506\n",
      "tree f1: 0.230\n",
      "svm precision: 0.506\n",
      "svm recall: 0.515\n",
      "svm f1: 0.130\n",
      "Score LVQ:0.810500\n"
     ]
    }
   ],
   "metadata": {}
  },
  {
   "cell_type": "markdown",
   "source": [
    "Teste dos modelos sem PCA e balanceamento"
   ],
   "metadata": {}
  },
  {
   "cell_type": "code",
   "execution_count": null,
   "source": [
    "\n",
    "# Modelo K-NN\n",
    "modelo_knn = KNeighborsClassifier(n_neighbors=1)\n",
    "modelo_knn.fit(X_train, y_train)\n",
    "knn_y_predict = modelo_knn.predict(X_test)\n",
    "scores_knn = modelo_knn.score(X_test, y_test)\n",
    "\n",
    "\n",
    "# Modelo MLP\n",
    "modelo_mlp  = MLPClassifier(activation='relu', hidden_layer_sizes=20, learning_rate_init=0.0005)\n",
    "modelo_mlp.fit(X_train, y_train)\n",
    "mlp_y_predict = modelo_mlp.predict(X_test)\n",
    "scores_mlp = modelo_mlp.score(X_test, y_test)\n",
    "\n",
    "# Modelo LVQ\n",
    "modelo_lvq = GlvqModel(prototypes_per_class=1)\n",
    "modelo_lvq.fit(X_train, y_train)\n",
    "lvq_y_predict = modelo_lvq.predict(X_test)\n",
    "scores_lvq = modelo_lvq.score(X_test, y_test)\n",
    "\n",
    "# Modelo Tree\n",
    "modelo_tree = tree.DecisionTreeClassifier(criterion='entropy', max_depth=8, min_samples_leaf=4, min_samples_split=7)\n",
    "modelo_tree.fit(X_train, y_train)\n",
    "tree_y_predict = modelo_tree.predict(X_test)\n",
    "scores_tree = modelo_tree.score(X_test, y_test)\n",
    "\n",
    "# Modelo SVM\n",
    "modelo_svm = svm.SVC(kernel='poly', C=10)\n",
    "modelo_svm.fit(X_train, y_train)\n",
    "svm_y_predict = modelo_svm.predict(X_test)\n",
    "scores_svm = modelo_svm.score(X_test, y_test)\n"
   ],
   "outputs": [],
   "metadata": {}
  },
  {
   "cell_type": "code",
   "execution_count": null,
   "source": [
    "from sklearn.metrics import precision_score\n",
    "from sklearn.metrics import recall_score\n",
    "from sklearn.metrics import f1_score\n",
    "\n",
    "knn_test_precision = precision_score(y_test, knn_y_predict, average='macro')\n",
    "knn_test_recall = recall_score(y_test, knn_y_predict, average='macro')\n",
    "knn_test_f1 = f1_score(y_test, knn_y_predict, average='macro')\n",
    "print('K-NN precision: %.3f' %knn_test_precision)\n",
    "print('K-NN recall: %.3f' %knn_test_recall)\n",
    "print('K-NN f1: %.3f' %knn_test_f1)\n",
    "\n",
    "mlp_test_precision = precision_score(y_test, mlp_y_predict, average='macro')\n",
    "mlp_test_recall = recall_score(y_test, mlp_y_predict, average='macro')\n",
    "mlp_test_f1 = f1_score(y_test, mlp_y_predict, average='macro')\n",
    "print('MLP precision: %.3f' %mlp_test_precision)\n",
    "print('MLP recall: %.3f' %mlp_test_recall)\n",
    "print('MLP f1: %.3f' %mlp_test_f1)\n",
    "\n",
    "lvq_test_precision = precision_score(y_test, lvq_y_predict, average='macro')\n",
    "lvq_test_recall = recall_score(y_test, lvq_y_predict, average='macro')\n",
    "lvq_test_f1 = f1_score(y_test, lvq_y_predict, average='macro')\n",
    "print('lvq precision: %.3f' %lvq_test_precision)\n",
    "print('lvq recall: %.3f' %lvq_test_recall)\n",
    "print('lvq f1: %.3f' %lvq_test_f1)\n",
    "\n",
    "tree_test_precision = precision_score(y_test, tree_y_predict, average='macro')\n",
    "tree_test_recall = recall_score(y_test, tree_y_predict, average='macro')\n",
    "tree_test_f1 = f1_score(y_test, tree_y_predict, average='macro')\n",
    "print('tree precision: %.3f' %tree_test_precision)\n",
    "print('tree recall: %.3f' %tree_test_recall)\n",
    "print('tree f1: %.3f' %tree_test_f1)\n",
    "\n",
    "svm_test_precision = precision_score(y_test, svm_y_predict, average='macro')\n",
    "svm_test_recall = recall_score(y_test, svm_y_predict, average='macro')\n",
    "svm_test_f1 = f1_score(y_test, svm_y_predict, average='macro')\n",
    "print('svm precision: %.3f' %svm_test_precision)\n",
    "print('svm recall: %.3f' %svm_test_recall)\n",
    "print('svm f1: %.3f' %svm_test_f1)\n",
    "print('Score LVQ:%f' %scores_lvq)"
   ],
   "outputs": [],
   "metadata": {}
  }
 ],
 "metadata": {
  "orig_nbformat": 4,
  "language_info": {
   "name": "python",
   "version": "3.8.8",
   "mimetype": "text/x-python",
   "codemirror_mode": {
    "name": "ipython",
    "version": 3
   },
   "pygments_lexer": "ipython3",
   "nbconvert_exporter": "python",
   "file_extension": ".py"
  },
  "kernelspec": {
   "name": "python3",
   "display_name": "Python 3.8.8 64-bit ('anaconda3': conda)"
  },
  "interpreter": {
   "hash": "96762580dc771c728ac9a1b8aa29a3a420bc09545a8c1a32553175fbb1f6eb2a"
  }
 },
 "nbformat": 4,
 "nbformat_minor": 2
}