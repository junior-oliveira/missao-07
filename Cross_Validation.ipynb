{
  "nbformat": 4,
  "nbformat_minor": 0,
  "metadata": {
    "colab": {
      "name": "Cross Validation.ipynb",
      "provenance": [],
      "collapsed_sections": []
    },
    "kernelspec": {
      "name": "python3",
      "display_name": "Python 3"
    },
    "language_info": {
      "name": "python"
    }
  },
  "cells": [
    {
      "cell_type": "code",
      "metadata": {
        "id": "-sMqt-GHjQgY"
      },
      "source": [
        "import warnings\n",
        "warnings.filterwarnings('ignore')"
      ],
      "execution_count": null,
      "outputs": []
    },
    {
      "cell_type": "code",
      "metadata": {
        "id": "02nexSF6gY_V"
      },
      "source": [
        "from sklearn.model_selection import train_test_split, cross_validate, GridSearchCV, RepeatedStratifiedKFold\n",
        "from sklearn.metrics import classification_report\n",
        "from sklearn.neighbors import KNeighborsClassifier\n",
        "import requests\n",
        "import pandas as pd"
      ],
      "execution_count": null,
      "outputs": []
    },
    {
      "cell_type": "code",
      "metadata": {
        "id": "Aqbbm6RbhUrm"
      },
      "source": [
        "URL = \"https://archive.ics.uci.edu/ml/machine-learning-databases/yeast/yeast.data\"\n",
        "data = requests.get(URL)\n",
        "with open(\"yeast.data\", \"wb\") as f:\n",
        "  f.write(data.content)"
      ],
      "execution_count": null,
      "outputs": []
    },
    {
      "cell_type": "code",
      "metadata": {
        "id": "_PoK7H1wg6gz"
      },
      "source": [
        "data = pd.read_fwf(\n",
        "    'yeast.data',\n",
        "    header=None\n",
        "    )\n",
        "data.columns = ['SEQUENCE_NAME', 'MCG', 'GVH', 'ALM', 'MIT', 'ERL', 'POX', 'VAC', 'NUC', 'CLASSES']"
      ],
      "execution_count": null,
      "outputs": []
    },
    {
      "cell_type": "code",
      "metadata": {
        "id": "xJBBqWKkg-im"
      },
      "source": [
        "data = data[['MCG', 'GVH', 'ALM', 'MIT', 'ERL', 'POX', 'VAC', 'NUC', 'CLASSES']]\n",
        "\n",
        "y = data['CLASSES']\n",
        "X = data.drop(['CLASSES'], axis=1)"
      ],
      "execution_count": null,
      "outputs": []
    },
    {
      "cell_type": "code",
      "metadata": {
        "colab": {
          "base_uri": "https://localhost:8080/"
        },
        "id": "sZJ80kjcgxhj",
        "outputId": "cfb00086-8dc2-44cd-9295-c8c504340119"
      },
      "source": [
        "#split data into train+validation set and test set\n",
        "X_train, X_test, y_train, y_test = train_test_split(X, y, test_size=0.2, random_state=12345, shuffle=True, stratify=y)\n",
        "#split train+validation set into training and validation\n",
        "X_trainval, X_valid, y_trainval, y_valid = train_test_split(X_train, y_train, test_size=0.2, random_state=12345, shuffle=True, stratify=y_train)\n",
        "print(f\"Size of training set: {X_trainval.shape[0]}. \\nSize of validation set: {X_valid.shape[0]}. \\nSize of test set: {X_test.shape[0]}.\")"
      ],
      "execution_count": null,
      "outputs": [
        {
          "output_type": "stream",
          "text": [
            "Size of training set: 949. \n",
            "Size of validation set: 238. \n",
            "Size of test set: 297.\n"
          ],
          "name": "stdout"
        }
      ]
    },
    {
      "cell_type": "code",
      "metadata": {
        "id": "L2nNBzPvhCHS"
      },
      "source": [
        "model_knn = KNeighborsClassifier()"
      ],
      "execution_count": null,
      "outputs": []
    },
    {
      "cell_type": "code",
      "metadata": {
        "colab": {
          "base_uri": "https://localhost:8080/"
        },
        "id": "ZcEMSsxPg1Cx",
        "outputId": "c77c332f-c1d2-411a-bee6-237ae60c959b"
      },
      "source": [
        "param_grid = [{'n_neighbors': range(1, 38, 2), 'metric': ['euclidean']}]\n",
        "grid_search = GridSearchCV(estimator=KNeighborsClassifier(),\n",
        "                           param_grid=param_grid, scoring=['accuracy','precision_macro', 'recall_macro', 'f1_macro'],\n",
        "                           refit='precision_macro',\n",
        "                           cv=RepeatedStratifiedKFold(n_splits=5, \n",
        "                                                      n_repeats=10, random_state=12345)) #choose the refit parameter according to metric you want to tune\n",
        "\n",
        "grid_search.fit(X_trainval, y_trainval)\n",
        "y_true, y_pred = y_valid, grid_search.predict(X_valid)\n",
        "print(classification_report(y_true, y_pred))\n",
        "print(grid_search.best_estimator_)\n",
        "print(grid_search.best_params_)"
      ],
      "execution_count": null,
      "outputs": [
        {
          "output_type": "stream",
          "text": [
            "              precision    recall  f1-score   support\n",
            "\n",
            "         CYT       0.50      0.59      0.54        74\n",
            "         ERL       1.00      1.00      1.00         1\n",
            "         EXC       0.50      0.33      0.40         6\n",
            "         ME1       0.67      0.86      0.75         7\n",
            "         ME2       0.67      0.75      0.71         8\n",
            "         ME3       0.91      0.77      0.83        26\n",
            "         MIT       0.65      0.56      0.60        39\n",
            "         NUC       0.54      0.52      0.53        69\n",
            "         POX       0.67      0.67      0.67         3\n",
            "         VAC       0.00      0.00      0.00         5\n",
            "\n",
            "    accuracy                           0.58       238\n",
            "   macro avg       0.61      0.61      0.60       238\n",
            "weighted avg       0.58      0.58      0.58       238\n",
            "\n",
            "KNeighborsClassifier(algorithm='auto', leaf_size=30, metric='euclidean',\n",
            "                     metric_params=None, n_jobs=None, n_neighbors=7, p=2,\n",
            "                     weights='uniform')\n",
            "{'metric': 'euclidean', 'n_neighbors': 7}\n"
          ],
          "name": "stdout"
        }
      ]
    },
    {
      "cell_type": "code",
      "metadata": {
        "colab": {
          "base_uri": "https://localhost:8080/"
        },
        "id": "4sZ7nLjLhHQi",
        "outputId": "9f362ae3-d037-45d0-90dc-9ab2be19923c"
      },
      "source": [
        "model_knn = KNeighborsClassifier(n_neighbors=7) #set the number of neighbors according to the hyperparameter found\n",
        "scores_knn = cross_validate(model_knn, X_train, y_train, cv = RepeatedStratifiedKFold(n_splits=5, n_repeats=10, random_state=12345),\n",
        "                        scoring=['accuracy','precision_macro', 'recall_macro', 'f1_macro'],\n",
        "                        return_train_score=True)\n",
        "for k in scores_knn.keys():\n",
        "    print(str(k) + ': Mean: ' + '{:.5f} - Standard Deviation: {:.5f}'.format(scores_knn[k].mean(),scores_knn[k].std()))"
      ],
      "execution_count": null,
      "outputs": [
        {
          "output_type": "stream",
          "text": [
            "fit_time: Mean: 0.00343 - Standard Deviation: 0.00034\n",
            "score_time: Mean: 0.01723 - Standard Deviation: 0.00135\n",
            "test_accuracy: Mean: 0.57700 - Standard Deviation: 0.02523\n",
            "train_accuracy: Mean: 0.67013 - Standard Deviation: 0.00851\n",
            "test_precision_macro: Mean: 0.60144 - Standard Deviation: 0.04694\n",
            "train_precision_macro: Mean: 0.66236 - Standard Deviation: 0.03248\n",
            "test_recall_macro: Mean: 0.57635 - Standard Deviation: 0.04646\n",
            "train_recall_macro: Mean: 0.64413 - Standard Deviation: 0.01049\n",
            "test_f1_macro: Mean: 0.57181 - Standard Deviation: 0.04254\n",
            "train_f1_macro: Mean: 0.63909 - Standard Deviation: 0.01925\n"
          ],
          "name": "stdout"
        }
      ]
    },
    {
      "cell_type": "code",
      "metadata": {
        "colab": {
          "base_uri": "https://localhost:8080/",
          "height": 359
        },
        "id": "qboOja5OhI6X",
        "outputId": "9cc4f019-fb80-4de8-d2c4-66a5c7acedee"
      },
      "source": [
        "pd.DataFrame(scores_knn).agg(['mean', 'std']).T"
      ],
      "execution_count": null,
      "outputs": [
        {
          "output_type": "execute_result",
          "data": {
            "text/html": [
              "<div>\n",
              "<style scoped>\n",
              "    .dataframe tbody tr th:only-of-type {\n",
              "        vertical-align: middle;\n",
              "    }\n",
              "\n",
              "    .dataframe tbody tr th {\n",
              "        vertical-align: top;\n",
              "    }\n",
              "\n",
              "    .dataframe thead th {\n",
              "        text-align: right;\n",
              "    }\n",
              "</style>\n",
              "<table border=\"1\" class=\"dataframe\">\n",
              "  <thead>\n",
              "    <tr style=\"text-align: right;\">\n",
              "      <th></th>\n",
              "      <th>mean</th>\n",
              "      <th>std</th>\n",
              "    </tr>\n",
              "  </thead>\n",
              "  <tbody>\n",
              "    <tr>\n",
              "      <th>fit_time</th>\n",
              "      <td>0.003427</td>\n",
              "      <td>0.000345</td>\n",
              "    </tr>\n",
              "    <tr>\n",
              "      <th>score_time</th>\n",
              "      <td>0.017227</td>\n",
              "      <td>0.001363</td>\n",
              "    </tr>\n",
              "    <tr>\n",
              "      <th>test_accuracy</th>\n",
              "      <td>0.577000</td>\n",
              "      <td>0.025484</td>\n",
              "    </tr>\n",
              "    <tr>\n",
              "      <th>train_accuracy</th>\n",
              "      <td>0.670135</td>\n",
              "      <td>0.008601</td>\n",
              "    </tr>\n",
              "    <tr>\n",
              "      <th>test_precision_macro</th>\n",
              "      <td>0.601437</td>\n",
              "      <td>0.047412</td>\n",
              "    </tr>\n",
              "    <tr>\n",
              "      <th>train_precision_macro</th>\n",
              "      <td>0.662356</td>\n",
              "      <td>0.032808</td>\n",
              "    </tr>\n",
              "    <tr>\n",
              "      <th>test_recall_macro</th>\n",
              "      <td>0.576353</td>\n",
              "      <td>0.046928</td>\n",
              "    </tr>\n",
              "    <tr>\n",
              "      <th>train_recall_macro</th>\n",
              "      <td>0.644126</td>\n",
              "      <td>0.010594</td>\n",
              "    </tr>\n",
              "    <tr>\n",
              "      <th>test_f1_macro</th>\n",
              "      <td>0.571811</td>\n",
              "      <td>0.042967</td>\n",
              "    </tr>\n",
              "    <tr>\n",
              "      <th>train_f1_macro</th>\n",
              "      <td>0.639090</td>\n",
              "      <td>0.019450</td>\n",
              "    </tr>\n",
              "  </tbody>\n",
              "</table>\n",
              "</div>"
            ],
            "text/plain": [
              "                           mean       std\n",
              "fit_time               0.003427  0.000345\n",
              "score_time             0.017227  0.001363\n",
              "test_accuracy          0.577000  0.025484\n",
              "train_accuracy         0.670135  0.008601\n",
              "test_precision_macro   0.601437  0.047412\n",
              "train_precision_macro  0.662356  0.032808\n",
              "test_recall_macro      0.576353  0.046928\n",
              "train_recall_macro     0.644126  0.010594\n",
              "test_f1_macro          0.571811  0.042967\n",
              "train_f1_macro         0.639090  0.019450"
            ]
          },
          "metadata": {
            "tags": []
          },
          "execution_count": 22
        }
      ]
    }
  ]
}